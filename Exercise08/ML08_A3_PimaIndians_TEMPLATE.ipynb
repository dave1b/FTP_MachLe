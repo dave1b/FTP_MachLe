{
 "cells": [
  {
   "cell_type": "markdown",
   "metadata": {},
   "source": [
    "<img src=\"ost_logo.png\" width=\"240\" height=\"240\" align=\"right\"/>\n",
    "<div style=\"text-align: left\"> <b> Machine Learning </b> <br> MSE FTP MachLe <br> \n",
    "<a href=\"mailto:christoph.wuersch@ost.ch\"> Christoph Würsch </a> </div>"
   ]
  },
  {
   "cell_type": "markdown",
   "metadata": {},
   "source": [
    "# ML08: A3 Support Vector Machine: Pima Indians\n",
    "MSE_FTP_MachLe, WÜRC\n"
   ]
  },
  {
   "cell_type": "code",
   "metadata": {
    "ExecuteTime": {
     "end_time": "2024-04-11T06:31:40.521235Z",
     "start_time": "2024-04-11T06:31:40.516292Z"
    }
   },
   "source": [
    "%matplotlib inline\n",
    "import pandas as pd\n",
    "import matplotlib.pyplot as plt\n",
    "import numpy as np\n",
    "import seaborn as sns"
   ],
   "outputs": [],
   "execution_count": 1
  },
  {
   "cell_type": "markdown",
   "metadata": {},
   "source": [
    "## Pima-Indian dataset\n",
    "\n",
    "The data set `pima-indians-diabetes.csv` contains medical indicators collected from 768 patients of the indigenous Pima tribe (Phoenix, AZ). The subjects were between 21 and 81 years old. The following characteristics were recorded:\n",
    "\n",
    "`NumTimesPrg`: Number of pregnancies\n",
    "`PlGlcConc`: Blood sugar 2h after oral uptake of sugar (oGTT) (mg/dl)\n",
    "`BloodP`: Diastolic blood pressure (mm Hg)\n",
    "`SkinThick`: thickness of the skin fold at the triceps (mm)\n",
    "`TwoHourSerIns`: Insulin concentration after 2h oGTT ( 𝜇 IU/ mg)\n",
    "`BMI`:Body Mass Index (kg/m 2 )\n",
    "`DiPedFunc`: Hereditary predisposition\n",
    "`Age`: Age (years)\n",
    "`HasDiabetes` :Diagnosis Diabetes Type II\n",
    "\n",
    "The classification goal is to make the diagnosis of type II diabetes based on the factors, i.e. to make a prediction model for the variable `y= HasDiabetes` using a support vector machine (SVM) with a radial basis function kernel.\n",
    "\n",
    "![Pima Indians](women-Pima-shinny-game-field-hockey.jpg)\n"
   ]
  },
  {
   "cell_type": "markdown",
   "metadata": {},
   "source": [
    "### Explorative Data Analysis (EDA)\n",
    "\n",
    "Load the dataset `pima-indians-diabetes.csv` and create a `pandas` data frame from it. We take care that the column captions are imported correctly. "
   ]
  },
  {
   "cell_type": "code",
   "metadata": {
    "ExecuteTime": {
     "end_time": "2024-04-11T06:31:40.526081Z",
     "start_time": "2024-04-11T06:31:40.521716Z"
    }
   },
   "source": [
    "pima = pd.read_csv('./pima-indians-diabetes.csv', header=None)\n",
    "pima.columns = [\"NumTimesPrg\", \"PlGlcConc\", \"BloodP\", \"SkinThick\", \"TwoHourSerIns\", \"BMI\", \"DiPedFunc\", \"Age\",\n",
    "                \"HasDiabetes\"]"
   ],
   "outputs": [],
   "execution_count": 2
  },
  {
   "cell_type": "markdown",
   "metadata": {},
   "source": [
    "Display the first 5 entries of the dataset.\n"
   ]
  },
  {
   "cell_type": "code",
   "metadata": {
    "ExecuteTime": {
     "end_time": "2024-04-11T06:31:40.533297Z",
     "start_time": "2024-04-11T06:31:40.527262Z"
    }
   },
   "source": [
    "pima.head(5)"
   ],
   "outputs": [
    {
     "data": {
      "text/plain": [
       "   NumTimesPrg  PlGlcConc  BloodP  SkinThick  TwoHourSerIns   BMI  DiPedFunc  \\\n",
       "0            6        148      72         35              0  33.6      0.627   \n",
       "1            1         85      66         29              0  26.6      0.351   \n",
       "2            8        183      64          0              0  23.3      0.672   \n",
       "3            1         89      66         23             94  28.1      0.167   \n",
       "4            0        137      40         35            168  43.1      2.288   \n",
       "\n",
       "   Age  HasDiabetes  \n",
       "0   50            1  \n",
       "1   31            0  \n",
       "2   32            1  \n",
       "3   21            0  \n",
       "4   33            1  "
      ],
      "text/html": [
       "<div>\n",
       "<style scoped>\n",
       "    .dataframe tbody tr th:only-of-type {\n",
       "        vertical-align: middle;\n",
       "    }\n",
       "\n",
       "    .dataframe tbody tr th {\n",
       "        vertical-align: top;\n",
       "    }\n",
       "\n",
       "    .dataframe thead th {\n",
       "        text-align: right;\n",
       "    }\n",
       "</style>\n",
       "<table border=\"1\" class=\"dataframe\">\n",
       "  <thead>\n",
       "    <tr style=\"text-align: right;\">\n",
       "      <th></th>\n",
       "      <th>NumTimesPrg</th>\n",
       "      <th>PlGlcConc</th>\n",
       "      <th>BloodP</th>\n",
       "      <th>SkinThick</th>\n",
       "      <th>TwoHourSerIns</th>\n",
       "      <th>BMI</th>\n",
       "      <th>DiPedFunc</th>\n",
       "      <th>Age</th>\n",
       "      <th>HasDiabetes</th>\n",
       "    </tr>\n",
       "  </thead>\n",
       "  <tbody>\n",
       "    <tr>\n",
       "      <th>0</th>\n",
       "      <td>6</td>\n",
       "      <td>148</td>\n",
       "      <td>72</td>\n",
       "      <td>35</td>\n",
       "      <td>0</td>\n",
       "      <td>33.6</td>\n",
       "      <td>0.627</td>\n",
       "      <td>50</td>\n",
       "      <td>1</td>\n",
       "    </tr>\n",
       "    <tr>\n",
       "      <th>1</th>\n",
       "      <td>1</td>\n",
       "      <td>85</td>\n",
       "      <td>66</td>\n",
       "      <td>29</td>\n",
       "      <td>0</td>\n",
       "      <td>26.6</td>\n",
       "      <td>0.351</td>\n",
       "      <td>31</td>\n",
       "      <td>0</td>\n",
       "    </tr>\n",
       "    <tr>\n",
       "      <th>2</th>\n",
       "      <td>8</td>\n",
       "      <td>183</td>\n",
       "      <td>64</td>\n",
       "      <td>0</td>\n",
       "      <td>0</td>\n",
       "      <td>23.3</td>\n",
       "      <td>0.672</td>\n",
       "      <td>32</td>\n",
       "      <td>1</td>\n",
       "    </tr>\n",
       "    <tr>\n",
       "      <th>3</th>\n",
       "      <td>1</td>\n",
       "      <td>89</td>\n",
       "      <td>66</td>\n",
       "      <td>23</td>\n",
       "      <td>94</td>\n",
       "      <td>28.1</td>\n",
       "      <td>0.167</td>\n",
       "      <td>21</td>\n",
       "      <td>0</td>\n",
       "    </tr>\n",
       "    <tr>\n",
       "      <th>4</th>\n",
       "      <td>0</td>\n",
       "      <td>137</td>\n",
       "      <td>40</td>\n",
       "      <td>35</td>\n",
       "      <td>168</td>\n",
       "      <td>43.1</td>\n",
       "      <td>2.288</td>\n",
       "      <td>33</td>\n",
       "      <td>1</td>\n",
       "    </tr>\n",
       "  </tbody>\n",
       "</table>\n",
       "</div>"
      ]
     },
     "execution_count": 3,
     "metadata": {},
     "output_type": "execute_result"
    }
   ],
   "execution_count": 3
  },
  {
   "cell_type": "markdown",
   "metadata": {},
   "source": [
    "\n",
    "It is already noticeable here that the insulin values of some patients have the value '0'. "
   ]
  },
  {
   "cell_type": "markdown",
   "metadata": {},
   "source": [
    "### (a) Calculate the percentage of patients with diabetes and display a statistics using `df.describe`\n",
    "We can calculate the percentage of the patients with diabetes by determining the mean value of the response column 'HasDiabetes'. Using the `dataframe.describe()`, we can print the main statistics of the dataset."
   ]
  },
  {
   "cell_type": "code",
   "metadata": {
    "ExecuteTime": {
     "end_time": "2024-04-11T06:31:40.536930Z",
     "start_time": "2024-04-11T06:31:40.533723Z"
    }
   },
   "source": [
    "perc_diab = pima['HasDiabetes'].mean()\n",
    "\n",
    "print('percentage of diabetes: %f ' % np.round(perc_diab * 100, 2))\n",
    "\n",
    "y = pima['HasDiabetes']\n",
    "X = pima.drop('HasDiabetes', axis=1)\n",
    "\n",
    "X_names = X.columns"
   ],
   "outputs": [
    {
     "name": "stdout",
     "output_type": "stream",
     "text": [
      "percentage of diabetes: 34.900000 \n"
     ]
    }
   ],
   "execution_count": 4
  },
  {
   "cell_type": "code",
   "metadata": {
    "ExecuteTime": {
     "end_time": "2024-04-11T06:31:40.546145Z",
     "start_time": "2024-04-11T06:31:40.537524Z"
    }
   },
   "source": [
    "pima.describe()"
   ],
   "outputs": [
    {
     "data": {
      "text/plain": [
       "       NumTimesPrg   PlGlcConc      BloodP   SkinThick  TwoHourSerIns  \\\n",
       "count   768.000000  768.000000  768.000000  768.000000     768.000000   \n",
       "mean      3.845052  120.894531   69.105469   20.536458      79.799479   \n",
       "std       3.369578   31.972618   19.355807   15.952218     115.244002   \n",
       "min       0.000000    0.000000    0.000000    0.000000       0.000000   \n",
       "25%       1.000000   99.000000   62.000000    0.000000       0.000000   \n",
       "50%       3.000000  117.000000   72.000000   23.000000      30.500000   \n",
       "75%       6.000000  140.250000   80.000000   32.000000     127.250000   \n",
       "max      17.000000  199.000000  122.000000   99.000000     846.000000   \n",
       "\n",
       "              BMI   DiPedFunc         Age  HasDiabetes  \n",
       "count  768.000000  768.000000  768.000000   768.000000  \n",
       "mean    31.992578    0.471876   33.240885     0.348958  \n",
       "std      7.884160    0.331329   11.760232     0.476951  \n",
       "min      0.000000    0.078000   21.000000     0.000000  \n",
       "25%     27.300000    0.243750   24.000000     0.000000  \n",
       "50%     32.000000    0.372500   29.000000     0.000000  \n",
       "75%     36.600000    0.626250   41.000000     1.000000  \n",
       "max     67.100000    2.420000   81.000000     1.000000  "
      ],
      "text/html": [
       "<div>\n",
       "<style scoped>\n",
       "    .dataframe tbody tr th:only-of-type {\n",
       "        vertical-align: middle;\n",
       "    }\n",
       "\n",
       "    .dataframe tbody tr th {\n",
       "        vertical-align: top;\n",
       "    }\n",
       "\n",
       "    .dataframe thead th {\n",
       "        text-align: right;\n",
       "    }\n",
       "</style>\n",
       "<table border=\"1\" class=\"dataframe\">\n",
       "  <thead>\n",
       "    <tr style=\"text-align: right;\">\n",
       "      <th></th>\n",
       "      <th>NumTimesPrg</th>\n",
       "      <th>PlGlcConc</th>\n",
       "      <th>BloodP</th>\n",
       "      <th>SkinThick</th>\n",
       "      <th>TwoHourSerIns</th>\n",
       "      <th>BMI</th>\n",
       "      <th>DiPedFunc</th>\n",
       "      <th>Age</th>\n",
       "      <th>HasDiabetes</th>\n",
       "    </tr>\n",
       "  </thead>\n",
       "  <tbody>\n",
       "    <tr>\n",
       "      <th>count</th>\n",
       "      <td>768.000000</td>\n",
       "      <td>768.000000</td>\n",
       "      <td>768.000000</td>\n",
       "      <td>768.000000</td>\n",
       "      <td>768.000000</td>\n",
       "      <td>768.000000</td>\n",
       "      <td>768.000000</td>\n",
       "      <td>768.000000</td>\n",
       "      <td>768.000000</td>\n",
       "    </tr>\n",
       "    <tr>\n",
       "      <th>mean</th>\n",
       "      <td>3.845052</td>\n",
       "      <td>120.894531</td>\n",
       "      <td>69.105469</td>\n",
       "      <td>20.536458</td>\n",
       "      <td>79.799479</td>\n",
       "      <td>31.992578</td>\n",
       "      <td>0.471876</td>\n",
       "      <td>33.240885</td>\n",
       "      <td>0.348958</td>\n",
       "    </tr>\n",
       "    <tr>\n",
       "      <th>std</th>\n",
       "      <td>3.369578</td>\n",
       "      <td>31.972618</td>\n",
       "      <td>19.355807</td>\n",
       "      <td>15.952218</td>\n",
       "      <td>115.244002</td>\n",
       "      <td>7.884160</td>\n",
       "      <td>0.331329</td>\n",
       "      <td>11.760232</td>\n",
       "      <td>0.476951</td>\n",
       "    </tr>\n",
       "    <tr>\n",
       "      <th>min</th>\n",
       "      <td>0.000000</td>\n",
       "      <td>0.000000</td>\n",
       "      <td>0.000000</td>\n",
       "      <td>0.000000</td>\n",
       "      <td>0.000000</td>\n",
       "      <td>0.000000</td>\n",
       "      <td>0.078000</td>\n",
       "      <td>21.000000</td>\n",
       "      <td>0.000000</td>\n",
       "    </tr>\n",
       "    <tr>\n",
       "      <th>25%</th>\n",
       "      <td>1.000000</td>\n",
       "      <td>99.000000</td>\n",
       "      <td>62.000000</td>\n",
       "      <td>0.000000</td>\n",
       "      <td>0.000000</td>\n",
       "      <td>27.300000</td>\n",
       "      <td>0.243750</td>\n",
       "      <td>24.000000</td>\n",
       "      <td>0.000000</td>\n",
       "    </tr>\n",
       "    <tr>\n",
       "      <th>50%</th>\n",
       "      <td>3.000000</td>\n",
       "      <td>117.000000</td>\n",
       "      <td>72.000000</td>\n",
       "      <td>23.000000</td>\n",
       "      <td>30.500000</td>\n",
       "      <td>32.000000</td>\n",
       "      <td>0.372500</td>\n",
       "      <td>29.000000</td>\n",
       "      <td>0.000000</td>\n",
       "    </tr>\n",
       "    <tr>\n",
       "      <th>75%</th>\n",
       "      <td>6.000000</td>\n",
       "      <td>140.250000</td>\n",
       "      <td>80.000000</td>\n",
       "      <td>32.000000</td>\n",
       "      <td>127.250000</td>\n",
       "      <td>36.600000</td>\n",
       "      <td>0.626250</td>\n",
       "      <td>41.000000</td>\n",
       "      <td>1.000000</td>\n",
       "    </tr>\n",
       "    <tr>\n",
       "      <th>max</th>\n",
       "      <td>17.000000</td>\n",
       "      <td>199.000000</td>\n",
       "      <td>122.000000</td>\n",
       "      <td>99.000000</td>\n",
       "      <td>846.000000</td>\n",
       "      <td>67.100000</td>\n",
       "      <td>2.420000</td>\n",
       "      <td>81.000000</td>\n",
       "      <td>1.000000</td>\n",
       "    </tr>\n",
       "  </tbody>\n",
       "</table>\n",
       "</div>"
      ]
     },
     "execution_count": 5,
     "metadata": {},
     "output_type": "execute_result"
    }
   ],
   "execution_count": 5
  },
  {
   "cell_type": "markdown",
   "metadata": {},
   "source": [
    "Some characteristics take the value 0, although this makes no medical sense. These are\n",
    "\n",
    "- `PlGlcConc`\n",
    "- `BloodP`\n",
    "- `SkinThick`\n",
    "- `TwoHourSerins`\n",
    "- `BMI`\n",
    "\n",
    "For example, the insulin value has at least a quarter missing. For these characteristics, we replace the 0 values with `np.nan` and then count again. For all other characteristics we do not know whether there are any other missing values."
   ]
  },
  {
   "cell_type": "markdown",
   "metadata": {},
   "source": [
    "### (b) Exlude samples with zero entries or missing values\n",
    "\n",
    "Replace the 0 values with `np.nan`and print again a statstical description of the dataset using `df.describe()`. Then drop `np.nan` values using `df.dropna()`."
   ]
  },
  {
   "cell_type": "code",
   "metadata": {
    "ExecuteTime": {
     "end_time": "2024-04-11T06:31:40.548088Z",
     "start_time": "2024-04-11T06:31:40.546670Z"
    }
   },
   "source": [
    "print(X_names.values)"
   ],
   "outputs": [
    {
     "name": "stdout",
     "output_type": "stream",
     "text": [
      "['NumTimesPrg' 'PlGlcConc' 'BloodP' 'SkinThick' 'TwoHourSerIns' 'BMI'\n",
      " 'DiPedFunc' 'Age']\n"
     ]
    }
   ],
   "execution_count": 6
  },
  {
   "cell_type": "code",
   "metadata": {
    "ExecuteTime": {
     "end_time": "2024-04-11T06:34:08.637597Z",
     "start_time": "2024-04-11T06:34:08.631923Z"
    }
   },
   "source": [
    "pima2 = pima.loc[:, X_names.values]\n",
    "target = pima['HasDiabetes']\n",
    "pima2.replace(0, np.nan, inplace=True)\n",
    "pima2['HasDiabetes'] = target\n",
    "\n",
    "pima2.dropna(axis=0, inplace=True)\n",
    "pima = pima2"
   ],
   "outputs": [],
   "execution_count": 15
  },
  {
   "cell_type": "code",
   "metadata": {
    "ExecuteTime": {
     "end_time": "2024-04-11T06:34:08.891389Z",
     "start_time": "2024-04-11T06:34:08.877888Z"
    }
   },
   "source": [
    "pima.describe()"
   ],
   "outputs": [
    {
     "data": {
      "text/plain": [
       "       NumTimesPrg   PlGlcConc      BloodP   SkinThick  TwoHourSerIns  \\\n",
       "count   336.000000  336.000000  336.000000  336.000000     336.000000   \n",
       "mean      3.851190  122.279762   70.244048   28.663690     155.348214   \n",
       "std       3.148352   30.784649   12.363401   10.249863     118.777281   \n",
       "min       1.000000   56.000000   24.000000    7.000000      15.000000   \n",
       "25%       1.000000   99.000000   62.000000   21.000000      76.000000   \n",
       "50%       3.000000  119.000000   70.000000   28.500000     125.500000   \n",
       "75%       6.000000  144.000000   78.000000   36.000000     190.000000   \n",
       "max      17.000000  197.000000  110.000000   52.000000     846.000000   \n",
       "\n",
       "              BMI   DiPedFunc         Age  HasDiabetes  \n",
       "count  336.000000  336.000000  336.000000   336.000000  \n",
       "mean    32.297321    0.518702   31.836310     0.330357  \n",
       "std      6.368558    0.327689   10.458446     0.471043  \n",
       "min     18.200000    0.085000   21.000000     0.000000  \n",
       "25%     27.800000    0.268000   24.000000     0.000000  \n",
       "50%     32.750000    0.446500   28.000000     0.000000  \n",
       "75%     36.250000    0.688250   38.000000     1.000000  \n",
       "max     57.300000    2.329000   81.000000     1.000000  "
      ],
      "text/html": [
       "<div>\n",
       "<style scoped>\n",
       "    .dataframe tbody tr th:only-of-type {\n",
       "        vertical-align: middle;\n",
       "    }\n",
       "\n",
       "    .dataframe tbody tr th {\n",
       "        vertical-align: top;\n",
       "    }\n",
       "\n",
       "    .dataframe thead th {\n",
       "        text-align: right;\n",
       "    }\n",
       "</style>\n",
       "<table border=\"1\" class=\"dataframe\">\n",
       "  <thead>\n",
       "    <tr style=\"text-align: right;\">\n",
       "      <th></th>\n",
       "      <th>NumTimesPrg</th>\n",
       "      <th>PlGlcConc</th>\n",
       "      <th>BloodP</th>\n",
       "      <th>SkinThick</th>\n",
       "      <th>TwoHourSerIns</th>\n",
       "      <th>BMI</th>\n",
       "      <th>DiPedFunc</th>\n",
       "      <th>Age</th>\n",
       "      <th>HasDiabetes</th>\n",
       "    </tr>\n",
       "  </thead>\n",
       "  <tbody>\n",
       "    <tr>\n",
       "      <th>count</th>\n",
       "      <td>336.000000</td>\n",
       "      <td>336.000000</td>\n",
       "      <td>336.000000</td>\n",
       "      <td>336.000000</td>\n",
       "      <td>336.000000</td>\n",
       "      <td>336.000000</td>\n",
       "      <td>336.000000</td>\n",
       "      <td>336.000000</td>\n",
       "      <td>336.000000</td>\n",
       "    </tr>\n",
       "    <tr>\n",
       "      <th>mean</th>\n",
       "      <td>3.851190</td>\n",
       "      <td>122.279762</td>\n",
       "      <td>70.244048</td>\n",
       "      <td>28.663690</td>\n",
       "      <td>155.348214</td>\n",
       "      <td>32.297321</td>\n",
       "      <td>0.518702</td>\n",
       "      <td>31.836310</td>\n",
       "      <td>0.330357</td>\n",
       "    </tr>\n",
       "    <tr>\n",
       "      <th>std</th>\n",
       "      <td>3.148352</td>\n",
       "      <td>30.784649</td>\n",
       "      <td>12.363401</td>\n",
       "      <td>10.249863</td>\n",
       "      <td>118.777281</td>\n",
       "      <td>6.368558</td>\n",
       "      <td>0.327689</td>\n",
       "      <td>10.458446</td>\n",
       "      <td>0.471043</td>\n",
       "    </tr>\n",
       "    <tr>\n",
       "      <th>min</th>\n",
       "      <td>1.000000</td>\n",
       "      <td>56.000000</td>\n",
       "      <td>24.000000</td>\n",
       "      <td>7.000000</td>\n",
       "      <td>15.000000</td>\n",
       "      <td>18.200000</td>\n",
       "      <td>0.085000</td>\n",
       "      <td>21.000000</td>\n",
       "      <td>0.000000</td>\n",
       "    </tr>\n",
       "    <tr>\n",
       "      <th>25%</th>\n",
       "      <td>1.000000</td>\n",
       "      <td>99.000000</td>\n",
       "      <td>62.000000</td>\n",
       "      <td>21.000000</td>\n",
       "      <td>76.000000</td>\n",
       "      <td>27.800000</td>\n",
       "      <td>0.268000</td>\n",
       "      <td>24.000000</td>\n",
       "      <td>0.000000</td>\n",
       "    </tr>\n",
       "    <tr>\n",
       "      <th>50%</th>\n",
       "      <td>3.000000</td>\n",
       "      <td>119.000000</td>\n",
       "      <td>70.000000</td>\n",
       "      <td>28.500000</td>\n",
       "      <td>125.500000</td>\n",
       "      <td>32.750000</td>\n",
       "      <td>0.446500</td>\n",
       "      <td>28.000000</td>\n",
       "      <td>0.000000</td>\n",
       "    </tr>\n",
       "    <tr>\n",
       "      <th>75%</th>\n",
       "      <td>6.000000</td>\n",
       "      <td>144.000000</td>\n",
       "      <td>78.000000</td>\n",
       "      <td>36.000000</td>\n",
       "      <td>190.000000</td>\n",
       "      <td>36.250000</td>\n",
       "      <td>0.688250</td>\n",
       "      <td>38.000000</td>\n",
       "      <td>1.000000</td>\n",
       "    </tr>\n",
       "    <tr>\n",
       "      <th>max</th>\n",
       "      <td>17.000000</td>\n",
       "      <td>197.000000</td>\n",
       "      <td>110.000000</td>\n",
       "      <td>52.000000</td>\n",
       "      <td>846.000000</td>\n",
       "      <td>57.300000</td>\n",
       "      <td>2.329000</td>\n",
       "      <td>81.000000</td>\n",
       "      <td>1.000000</td>\n",
       "    </tr>\n",
       "  </tbody>\n",
       "</table>\n",
       "</div>"
      ]
     },
     "execution_count": 16,
     "metadata": {},
     "output_type": "execute_result"
    }
   ],
   "execution_count": 16
  },
  {
   "cell_type": "markdown",
   "metadata": {},
   "source": [
    "### (c) Plot a histogram of the of each feature and the the target using `df.hist()`"
   ]
  },
  {
   "cell_type": "code",
   "metadata": {
    "ExecuteTime": {
     "end_time": "2024-04-11T06:34:21.694943Z",
     "start_time": "2024-04-11T06:34:21.212560Z"
    }
   },
   "source": "pima.hist()",
   "outputs": [
    {
     "data": {
      "text/plain": [
       "array([[<Axes: title={'center': 'NumTimesPrg'}>,\n",
       "        <Axes: title={'center': 'PlGlcConc'}>,\n",
       "        <Axes: title={'center': 'BloodP'}>],\n",
       "       [<Axes: title={'center': 'SkinThick'}>,\n",
       "        <Axes: title={'center': 'TwoHourSerIns'}>,\n",
       "        <Axes: title={'center': 'BMI'}>],\n",
       "       [<Axes: title={'center': 'DiPedFunc'}>,\n",
       "        <Axes: title={'center': 'Age'}>,\n",
       "        <Axes: title={'center': 'HasDiabetes'}>]], dtype=object)"
      ]
     },
     "execution_count": 17,
     "metadata": {},
     "output_type": "execute_result"
    },
    {
     "data": {
      "text/plain": [
       "<Figure size 640x480 with 9 Axes>"
      ],
      "image/png": "[encoded data removed]"
     },
     "metadata": {},
     "output_type": "display_data"
    }
   ],
   "execution_count": 17
  },
  {
   "cell_type": "markdown",
   "metadata": {},
   "source": [
    "### (d) Split the data in 80% training and 20% test data\n",
    "\n",
    "   Use `train_test_split` from `sklearn.model_selection`. If you feed a `pandas.Dataframe` as an input to the method, you will also get `pandas.Dataframes` as output for the training and test features. This is quite practical."
   ]
  },
  {
   "cell_type": "code",
   "metadata": {
    "ExecuteTime": {
     "end_time": "2024-04-11T06:41:06.137206Z",
     "start_time": "2024-04-11T06:41:06.131087Z"
    }
   },
   "source": [
    "from sklearn.model_selection import train_test_split\n",
    "\n",
    "train, test = train_test_split(pima, test_size=0.2, random_state=42)\n",
    "train_Y = train['HasDiabetes']\n",
    "train_X = train.drop('HasDiabetes', axis=1)\n",
    "test_Y = test['HasDiabetes']\n",
    "test_X = test.drop('HasDiabetes', axis=1)\n",
    "\n",
    "print(f'Training data shape: {train.shape}')\n",
    "print(f'Test data shape: {test.shape}')"
   ],
   "outputs": [
    {
     "name": "stdout",
     "output_type": "stream",
     "text": [
      "Training data shape: (268, 9)\n",
      "Test data shape: (68, 9)\n"
     ]
    }
   ],
   "execution_count": 25
  },
  {
   "cell_type": "markdown",
   "metadata": {},
   "source": [
    "### (e) Standardize the features using the `StandardScaler` from `sklearn.preprocessing`\n",
    "Standardize the features using the `StandardScaler` from `sklearn.preprocessing` and display the histograms of the features again."
   ]
  },
  {
   "cell_type": "code",
   "metadata": {
    "ExecuteTime": {
     "end_time": "2024-04-11T06:41:40.229496Z",
     "start_time": "2024-04-11T06:41:40.225336Z"
    }
   },
   "source": [
    "from sklearn.preprocessing import StandardScaler\n",
    "\n",
    "scaler = StandardScaler()\n",
    "train = scaler.fit_transform(train_X)\n",
    "test = scaler.transform(test_X)"
   ],
   "outputs": [],
   "execution_count": 29
  },
  {
   "cell_type": "markdown",
   "metadata": {},
   "source": [
    "###  (f) Train a support vector machine with a radial basis function kernel and determine the accuracy on the test data.\n",
    "\n"
   ]
  },
  {
   "cell_type": "code",
   "metadata": {
    "ExecuteTime": {
     "end_time": "2024-04-11T06:42:16.520640Z",
     "start_time": "2024-04-11T06:42:16.511595Z"
    }
   },
   "source": [
    "from sklearn.svm import SVC\n",
    "from sklearn.model_selection import StratifiedShuffleSplit\n",
    "from sklearn.model_selection import GridSearchCV\n",
    "from sklearn.metrics import accuracy_score\n",
    "\n",
    "model = SVC(gamma=1, kernel='rbf', C=1)\n",
    "model.fit(train_X, train_Y)\n",
    "accuracy = model.score(test_X, test_Y)\n",
    "print(f'Test Accuracy: {accuracy:.3f}')"
   ],
   "outputs": [
    {
     "name": "stdout",
     "output_type": "stream",
     "text": [
      "Test Accuracy: 0.676\n"
     ]
    }
   ],
   "execution_count": 35
  },
  {
   "cell_type": "markdown",
   "metadata": {},
   "source": [
    "### (g) Perform a cross validated grid search `GridSearchCV` to find the best parameters for $\\gamma$ and $C$ and determine the best parameters and score\n",
    "- vary the value of $C$ in the range in a logarithmic scale from $10^{-3}$ to $10^{+3}$ (7 steps)\n",
    "- vary the value of $\\gamma$ in the range in a logarithmic scale from $10^{-3}$ to $10^{+3}$ (7 steps)\n",
    "- print a classification report and a confusion matrix of the best classifier using `classification_report` and `confusion_matrix` from `sklearn.metrics`.\n"
   ]
  },
  {
   "cell_type": "code",
   "metadata": {
    "ExecuteTime": {
     "end_time": "2024-04-11T06:45:05.928953Z",
     "start_time": "2024-04-11T06:45:05.510866Z"
    }
   },
   "source": [
    "C_range = np.logspace(-3, 3, 7)\n",
    "gamma_range = np.logspace(-3, 3, 7)\n",
    "param_grid = dict(gamma=gamma_range, C=C_range)\n",
    "\n",
    "model = SVC()\n",
    "grid_search_cv = GridSearchCV(model, param_grid,cv=5, scoring='accuracy')\n",
    "grid_search_cv.fit(train_X, train_Y)\n",
    "\n",
    "print(\"Best parameters set found on development set:\")\n",
    "print()\n",
    "print(grid_search_cv.best_params_)\n",
    "print()\n",
    "print(\"Grid scores on development set:\")\n",
    "print()\n",
    "results = grid_search_cv.cv_results_\n",
    "for i in range(len(results[\"params\"])):\n",
    "    print(\"%0.3f (+/-%0.03f) for %r\" % (results[\"mean_test_score\"][i], results[\"std_test_score\"][i] * 2, results[\"params\"][i]))"
   ],
   "outputs": [
    {
     "name": "stdout",
     "output_type": "stream",
     "text": [
      "Best parameters set found on development set:\n",
      "\n",
      "{'C': 1.0, 'gamma': 0.001}\n",
      "\n",
      "Grid scores on development set:\n",
      "\n",
      "0.668 (+/-0.012) for {'C': 0.001, 'gamma': 0.001}\n",
      "0.668 (+/-0.012) for {'C': 0.001, 'gamma': 0.01}\n",
      "0.668 (+/-0.012) for {'C': 0.001, 'gamma': 0.1}\n",
      "0.668 (+/-0.012) for {'C': 0.001, 'gamma': 1.0}\n",
      "0.668 (+/-0.012) for {'C': 0.001, 'gamma': 10.0}\n",
      "0.668 (+/-0.012) for {'C': 0.001, 'gamma': 100.0}\n",
      "0.668 (+/-0.012) for {'C': 0.001, 'gamma': 1000.0}\n",
      "0.668 (+/-0.012) for {'C': 0.01, 'gamma': 0.001}\n",
      "0.668 (+/-0.012) for {'C': 0.01, 'gamma': 0.01}\n",
      "0.668 (+/-0.012) for {'C': 0.01, 'gamma': 0.1}\n",
      "0.668 (+/-0.012) for {'C': 0.01, 'gamma': 1.0}\n",
      "0.668 (+/-0.012) for {'C': 0.01, 'gamma': 10.0}\n",
      "0.668 (+/-0.012) for {'C': 0.01, 'gamma': 100.0}\n",
      "0.668 (+/-0.012) for {'C': 0.01, 'gamma': 1000.0}\n",
      "0.668 (+/-0.012) for {'C': 0.1, 'gamma': 0.001}\n",
      "0.668 (+/-0.012) for {'C': 0.1, 'gamma': 0.01}\n",
      "0.668 (+/-0.012) for {'C': 0.1, 'gamma': 0.1}\n",
      "0.668 (+/-0.012) for {'C': 0.1, 'gamma': 1.0}\n",
      "0.668 (+/-0.012) for {'C': 0.1, 'gamma': 10.0}\n",
      "0.668 (+/-0.012) for {'C': 0.1, 'gamma': 100.0}\n",
      "0.668 (+/-0.012) for {'C': 0.1, 'gamma': 1000.0}\n",
      "0.761 (+/-0.058) for {'C': 1.0, 'gamma': 0.001}\n",
      "0.664 (+/-0.020) for {'C': 1.0, 'gamma': 0.01}\n",
      "0.668 (+/-0.012) for {'C': 1.0, 'gamma': 0.1}\n",
      "0.668 (+/-0.012) for {'C': 1.0, 'gamma': 1.0}\n",
      "0.668 (+/-0.012) for {'C': 1.0, 'gamma': 10.0}\n",
      "0.668 (+/-0.012) for {'C': 1.0, 'gamma': 100.0}\n",
      "0.668 (+/-0.012) for {'C': 1.0, 'gamma': 1000.0}\n",
      "0.742 (+/-0.029) for {'C': 10.0, 'gamma': 0.001}\n",
      "0.653 (+/-0.033) for {'C': 10.0, 'gamma': 0.01}\n",
      "0.668 (+/-0.012) for {'C': 10.0, 'gamma': 0.1}\n",
      "0.668 (+/-0.012) for {'C': 10.0, 'gamma': 1.0}\n",
      "0.668 (+/-0.012) for {'C': 10.0, 'gamma': 10.0}\n",
      "0.668 (+/-0.012) for {'C': 10.0, 'gamma': 100.0}\n",
      "0.668 (+/-0.012) for {'C': 10.0, 'gamma': 1000.0}\n",
      "0.706 (+/-0.067) for {'C': 100.0, 'gamma': 0.001}\n",
      "0.653 (+/-0.033) for {'C': 100.0, 'gamma': 0.01}\n",
      "0.668 (+/-0.012) for {'C': 100.0, 'gamma': 0.1}\n",
      "0.668 (+/-0.012) for {'C': 100.0, 'gamma': 1.0}\n",
      "0.668 (+/-0.012) for {'C': 100.0, 'gamma': 10.0}\n",
      "0.668 (+/-0.012) for {'C': 100.0, 'gamma': 100.0}\n",
      "0.668 (+/-0.012) for {'C': 100.0, 'gamma': 1000.0}\n",
      "0.702 (+/-0.077) for {'C': 1000.0, 'gamma': 0.001}\n",
      "0.653 (+/-0.033) for {'C': 1000.0, 'gamma': 0.01}\n",
      "0.668 (+/-0.012) for {'C': 1000.0, 'gamma': 0.1}\n",
      "0.668 (+/-0.012) for {'C': 1000.0, 'gamma': 1.0}\n",
      "0.668 (+/-0.012) for {'C': 1000.0, 'gamma': 10.0}\n",
      "0.668 (+/-0.012) for {'C': 1000.0, 'gamma': 100.0}\n",
      "0.668 (+/-0.012) for {'C': 1000.0, 'gamma': 1000.0}\n"
     ]
    }
   ],
   "execution_count": 38
  },
  {
   "cell_type": "code",
   "metadata": {
    "ExecuteTime": {
     "end_time": "2024-04-11T06:48:51.711240Z",
     "start_time": "2024-04-11T06:48:51.704951Z"
    }
   },
   "source": [
    "from sklearn.metrics import classification_report, confusion_matrix\n",
    "\n",
    "y_pred = grid_search_cv.predict(test_X)\n",
    "print('Classificaton report')\n",
    "print(classification_report(test_Y, y_pred))\n",
    "print('-------------------------------------------------------')\n",
    "print('Confusion matrix')\n",
    "confusion_matrix(test_Y, y_pred)"
   ],
   "outputs": [
    {
     "name": "stdout",
     "output_type": "stream",
     "text": [
      "Classificaton report\n",
      "              precision    recall  f1-score   support\n",
      "\n",
      "           0       0.73      0.87      0.79        46\n",
      "           1       0.54      0.32      0.40        22\n",
      "\n",
      "    accuracy                           0.69        68\n",
      "   macro avg       0.63      0.59      0.60        68\n",
      "weighted avg       0.67      0.69      0.67        68\n",
      "\n",
      "-------------------------------------------------------\n",
      "Confusion matrix\n"
     ]
    },
    {
     "data": {
      "text/plain": [
       "array([[40,  6],\n",
       "       [15,  7]])"
      ]
     },
     "execution_count": 51,
     "metadata": {},
     "output_type": "execute_result"
    }
   ],
   "execution_count": 51
  },
  {
   "cell_type": "markdown",
   "metadata": {},
   "source": [
    "### (h) Plot the resulting decision boundary of the SVM classifier for different values of $\\gamma$ and $C$ as contour plot in 2D\n",
    " \n",
    "Use the following features as the only features for the prediction such that we can display the decision boundary in a 2D plot. \n",
    "- feature 1: `TwoHourSerIns` (x1-axis)\n",
    "- feature 2: `Age` (x2-axis) \n",
    "\n",
    "Vary the C parameters in the following ranges:\n",
    "- `C_range = [1e-2, 1, 1e2]`\n",
    "- `gamma_range = [1e-1, 1, 1e1]`\n",
    "\n",
    "You can use the helper function `PlotDecisionBoundary(model, X2D, y)` to plot the decision boundary and the margins of the classifier. \n"
   ]
  },
  {
   "cell_type": "code",
   "metadata": {
    "ExecuteTime": {
     "end_time": "2024-04-11T06:49:14.950539Z",
     "start_time": "2024-04-11T06:49:14.947461Z"
    }
   },
   "source": "Xtrain_2D = train_X.loc[:, ['TwoHourSerIns', 'Age']]",
   "outputs": [],
   "execution_count": 53
  },
  {
   "cell_type": "code",
   "metadata": {
    "ExecuteTime": {
     "end_time": "2024-04-11T06:49:17.520134Z",
     "start_time": "2024-04-11T06:49:17.515850Z"
    }
   },
   "source": [
    "def PlotDecisionBoundary(model, X2D, y):\n",
    "    gamma = model.gamma\n",
    "    C = model.C\n",
    "    x1 = X2D.iloc[:, 0]\n",
    "    x2 = X2D.iloc[:, 1]\n",
    "\n",
    "    # evaluate decision function in a grid\n",
    "    xx, yy = np.meshgrid(np.linspace(-2, 2, 200), np.linspace(-2, 2, 200))\n",
    "\n",
    "    Z = clf.decision_function(np.c_[xx.ravel(), yy.ravel()])\n",
    "    Z = Z.reshape(xx.shape)\n",
    "\n",
    "    # visualize decision function for these parameters\n",
    "\n",
    "    plt.title(\"gamma=10^%d, C=10^%d\" % (np.log10(gamma), np.log10(C)),\n",
    "              size='medium')\n",
    "\n",
    "    # visualize parameter's effect on decision function\n",
    "    plt.pcolormesh(xx, yy, -Z, cmap=plt.cm.RdBu)\n",
    "    plt.contour(xx, yy, -Z)\n",
    "    plt.scatter(x1, x2, c=y, cmap=plt.cm.RdBu_r, edgecolors='k')\n",
    "    plt.xlim([-2, 2])\n",
    "    plt.ylim([-2, 2])\n"
   ],
   "outputs": [],
   "execution_count": 55
  },
  {
   "cell_type": "code",
   "metadata": {
    "ExecuteTime": {
     "end_time": "2024-04-11T06:49:17.725329Z",
     "start_time": "2024-04-11T06:49:17.722368Z"
    }
   },
   "source": [
    "# Now we need to fit a classifier for all parameters in the 2d version\n",
    "# (we use a smaller set of parameters here because it takes a while to train)\n",
    "\n",
    "C_range = [1e-2, 1, 1e2]\n",
    "gamma_range = [1e-1, 1, 1e1]\n",
    "classifiers = []\n",
    "for C in C_range:\n",
    "    for gamma in gamma_range:\n",
    "        \n"
   ],
   "outputs": [
    {
     "ename": "SyntaxError",
     "evalue": "incomplete input (1715570777.py, line 9)",
     "output_type": "error",
     "traceback": [
      "\u001B[0;36m  Cell \u001B[0;32mIn[56], line 9\u001B[0;36m\u001B[0m\n\u001B[0;31m    \u001B[0m\n\u001B[0m    ^\u001B[0m\n\u001B[0;31mSyntaxError\u001B[0m\u001B[0;31m:\u001B[0m incomplete input\n"
     ]
    }
   ],
   "execution_count": 56
  },
  {
   "cell_type": "code",
   "metadata": {
    "ExecuteTime": {
     "end_time": "2024-04-11T06:49:27.101572Z",
     "start_time": "2024-04-11T06:49:27.089079Z"
    }
   },
   "source": [
    "# #############################################################################\n",
    "# Visualization\n",
    "#\n",
    "# draw visualization of parameter effects\n",
    "\n",
    "plt.figure(figsize=(12, 12))\n",
    "for (k, (C, gamma, clf)) in enumerate(classifiers):\n",
    "    # visualize decision function for these parameters\n",
    "    plt.subplot(len(C_range), len(gamma_range), k + 1)\n",
    "    PlotDecisionBoundary(clf, Xtrain_2D, train_Y)\n"
   ],
   "outputs": [
    {
     "ename": "NameError",
     "evalue": "name 'classifiers' is not defined",
     "output_type": "error",
     "traceback": [
      "\u001B[0;31m---------------------------------------------------------------------------\u001B[0m",
      "\u001B[0;31mNameError\u001B[0m                                 Traceback (most recent call last)",
      "Cell \u001B[0;32mIn[58], line 7\u001B[0m\n\u001B[1;32m      1\u001B[0m \u001B[38;5;66;03m# #############################################################################\u001B[39;00m\n\u001B[1;32m      2\u001B[0m \u001B[38;5;66;03m# Visualization\u001B[39;00m\n\u001B[1;32m      3\u001B[0m \u001B[38;5;66;03m#\u001B[39;00m\n\u001B[1;32m      4\u001B[0m \u001B[38;5;66;03m# draw visualization of parameter effects\u001B[39;00m\n\u001B[1;32m      6\u001B[0m plt\u001B[38;5;241m.\u001B[39mfigure(figsize\u001B[38;5;241m=\u001B[39m(\u001B[38;5;241m12\u001B[39m, \u001B[38;5;241m12\u001B[39m))\n\u001B[0;32m----> 7\u001B[0m \u001B[38;5;28;01mfor\u001B[39;00m (k, (C, gamma, clf)) \u001B[38;5;129;01min\u001B[39;00m \u001B[38;5;28menumerate\u001B[39m(\u001B[43mclassifiers\u001B[49m):\n\u001B[1;32m      8\u001B[0m     \u001B[38;5;66;03m# visualize decision function for these parameters\u001B[39;00m\n\u001B[1;32m      9\u001B[0m     plt\u001B[38;5;241m.\u001B[39msubplot(\u001B[38;5;28mlen\u001B[39m(C_range), \u001B[38;5;28mlen\u001B[39m(gamma_range), k \u001B[38;5;241m+\u001B[39m \u001B[38;5;241m1\u001B[39m)\n\u001B[1;32m     10\u001B[0m     PlotDecisionBoundary(clf, Xtrain_2D, train_Y)\n",
      "\u001B[0;31mNameError\u001B[0m: name 'classifiers' is not defined"
     ]
    },
    {
     "data": {
      "text/plain": [
       "<Figure size 1200x1200 with 0 Axes>"
      ]
     },
     "metadata": {},
     "output_type": "display_data"
    }
   ],
   "execution_count": 58
  },
  {
   "cell_type": "code",
   "metadata": {},
   "source": [],
   "outputs": [],
   "execution_count": null
  }
 ],
 "metadata": {
  "kernelspec": {
   "display_name": "Python 3 (ipykernel)",
   "language": "python",
   "name": "python3"
  },
  "language_info": {
   "codemirror_mode": {
    "name": "ipython",
    "version": 3
   },
   "file_extension": ".py",
   "mimetype": "text/x-python",
   "name": "python",
   "nbconvert_exporter": "python",
   "pygments_lexer": "ipython3",
   "version": "3.9.16"
  }
 },
 "nbformat": 4,
 "nbformat_minor": 4
}
