{
 "cells": [
  {
   "cell_type": "code",
   "execution_count": 1,
   "metadata": {},
   "outputs": [],
   "source": [
    "import numpy as np\n",
    "import matplotlib.pyplot as plt"
   ]
  },
  {
   "cell_type": "markdown",
   "metadata": {},
   "source": [
    "# Terminology\n",
    "\n",
    "- Classification: predict a class (cat, dog, etc.)\n",
    "- Regression: predict a number (price, height, etc.)\n",
    "\n",
    "$\\square$\n",
    "\n",
    "- Model parameter: learning during training (weights in ANN, etc.)\n",
    "- Hyperparameter: setup parameter specified by human, fixed during training (k in KNN, ANN design, etc.)\n",
    "\n",
    "$\\square$\n",
    "\n",
    "- Overfitting: model is too complex (high training score, low test score) -> solve with regularization or by getting more training data\n",
    "- Underfitting: model is too simple for the complexity of the data (low training and test score) -> solve with more complex model\n",
    "\n",
    "$\\square$\n",
    "\n",
    "- Training set: model fitting\n",
    "- Validation set: hyperparameter optimization\n",
    "- Test set: evaluation\n",
    "\n",
    "$\\square$\n",
    "\n",
    "- Curse of dimensionality: exponentionally more data is needed for every added dimension (feature)\n",
    "- Blessing of non-uniformity: most real world data is non-uniform (pictures, endless possibilities but effectively the are all pretty near to each other featurewise)\n",
    "- Heavily effects algorithms that are based on distance calculations (kNN, SVM, etc.)\n",
    "\n",
    "$\\square$\n",
    "\n",
    "- Parametric model: fixed set of parameters, more data -> not more complex to learn (ANN, liniear models, etc.)\n",
    "- Non-parametric model: number of parameters grow with amount of data (trees, kNN, SVM, etc.)\n",
    "\n",
    "$\\square$\n",
    "\n",
    "- Label imbalance: credit card example: millions of valid transactions, few fradulent transactions; needs downsampling in order to be detectable/learnable\n",
    "\n",
    "$\\square$\n",
    "\n",
    "- Vector 1D ($\\textbf{x}$)\n",
    "- Matrix 2D ($\\textbf{X}$) ($n \\times p$ matrix represents $n$ datapoints in a $p$-dimensional space)\n",
    "- Tensor nD ($\\textbf{T}$)\n",
    "\n",
    "$\\square$\n",
    "\n",
    "- Discriminative: Can classify\n",
    "- Generative: Can classify but can also generate new (fake) datapoints that are likely\n",
    "\n",
    "<img src=\"https://raw.githubusercontent.com/ML-course/master/master/notebooks/images/06_discriminative_generative.png\" width=\"300\">\n",
    "\n",
    "$\\square$\n",
    "\n",
    "- Bias/Variance\n",
    "- Bias: [Training set related] Inability to capture the true relationship [\"falsches Vorurteil\"] (large bias = does *not* capture the true relationship well / little bias = does capture the true relationship well)\n",
    "- Variance: Difference in fits between data sets (training and test) (large variance = does *not* generalize well / little variance = does generalize well)\n",
    "- Overfitting: little bias, high variance [squiggly line example in linear regression] -> variance reduction: bagging\n",
    "- Underfitting: large bias, low variance [straight line example in linear regression] -> bias reduction: boosting\n",
    "- Ideal: little bias, little variance\n",
    "- When a model has low variance, it is called \"stable\"\n",
    "\n",
    "<img src=\"https://raw.githubusercontent.com/ML-course/master/master/notebooks/images/03_bias_variance.png\" alt=\"ml\" style=\"width: 100\"/>\n",
    "<img src=\"https://raw.githubusercontent.com/ML-course/master/master/notebooks/images/03_Bias-Variance-Tradeoff.png\" alt=\"ml\" style=\"width: 100\"/>\n"
   ]
  },
  {
   "cell_type": "markdown",
   "metadata": {},
   "source": [
    "# Various Notes"
   ]
  },
  {
   "cell_type": "markdown",
   "metadata": {},
   "source": [
    "## Python\n",
    "\n",
    "### Argsort Parallel Arrays in Reverse"
   ]
  },
  {
   "cell_type": "code",
   "execution_count": 5,
   "metadata": {},
   "outputs": [
    {
     "name": "stdout",
     "output_type": "stream",
     "text": [
      "[10  8  7  5  3  2]\n",
      "['ten' 'eight' 'seven' 'five' 'three' 'two']\n"
     ]
    }
   ],
   "source": [
    "\n",
    "first = np.array([3, 10, 2, 5, 8, 7])\n",
    "second = np.array([\"three\", \"ten\", \"two\", \"five\", \"eight\", \"seven\"])\n",
    "args_sorted = np.argsort(first)[::-1]\n",
    "first = np.array(first)[args_sorted]\n",
    "second = np.array(second)[args_sorted]\n",
    "print(first)\n",
    "print(second)"
   ]
  },
  {
   "cell_type": "markdown",
   "metadata": {},
   "source": [
    "### Matplotlib Figure\n",
    "\n",
    "Colormap: https://matplotlib.org/stable/gallery/color/colormap_reference.html"
   ]
  },
  {
   "cell_type": "code",
   "execution_count": null,
   "metadata": {},
   "outputs": [],
   "source": [
    "fig.tight_layout()"
   ]
  },
  {
   "cell_type": "markdown",
   "metadata": {},
   "source": [
    "## Covariance Matrix"
   ]
  },
  {
   "cell_type": "code",
   "execution_count": 3,
   "metadata": {},
   "outputs": [
    {
     "name": "stdout",
     "output_type": "stream",
     "text": [
      "[[21 10 54 33 65]\n",
      " [15  8 35 24 42]]\n",
      "[[518.3  317.15]\n",
      " [317.15 194.7 ]]\n",
      "194.7\n",
      "12.480384609458156\n",
      "12.480384609458156\n"
     ]
    }
   ],
   "source": [
    "# Zwei Parameter, z.B. Arbeitsweg (km) und benötigte Zeit (Minuten)\n",
    "m = np.array([[21,10,54,33,65],[15,8,35,24,42]])\n",
    "print(m)\n",
    "\n",
    "# Kovarianzmatrix: Diagonale 0,1 und 1,0 zeigt, dass die beiden\n",
    "# Werte linearabhängig sind, weil positiv. Beide Werte sind immer gleich.\n",
    "print(np.cov(m))\n",
    "\n",
    "# 0,0 und 1,1 entsprechen der Varianz der einzelnen beiden Listen\n",
    "print(np.var([15,8,35,24,42], ddof=1))\n",
    "\n",
    "# Die Varianz ist das Quadrat der Standardabweichung\n",
    "print(np.var([15,8,35,24,42], ddof=0)**0.5)\n",
    "print(np.std([15,8,35,24,42]))\n",
    "\n",
    "# ddof ist \"degrees of freedom\""
   ]
  },
  {
   "cell_type": "markdown",
   "metadata": {},
   "source": [
    "<img src=\"img02.png\" width=\"500\">\n",
    "\n",
    "*Example for positive correlation*"
   ]
  },
  {
   "cell_type": "markdown",
   "metadata": {},
   "source": [
    "# Linear Regression"
   ]
  },
  {
   "cell_type": "code",
   "execution_count": null,
   "metadata": {},
   "outputs": [],
   "source": [
    "from sklearn.linear_model import LinearRegression\n",
    "lr = LinearRegression().fit(X_train, y_train)"
   ]
  },
  {
   "cell_type": "markdown",
   "metadata": {},
   "source": [
    "\n",
    "Model:\n",
    "$$f_\\textbf{w}(\\textbf{X}) = \\sum_{i=1}^{p}w_i \\cdot x_i + w_0$$\n",
    "\n",
    "Loss:\n",
    "$$\\underset{\\textbf{w}}{\\mathrm{argmin}} \\: \\mathcal{L}(f_\\textbf{w}(\\textbf{X}))$$\n",
    "\n",
    "$$\\mathcal{L}_{SSE} = \\sum_{n=1}^{N} (y_n-\\hat{y}_n)^2 = \\sum_{n=1}^{N} (y_n-(\\mathbf{w}\\mathbf{x_n} + w_0))^2$$ \n",
    "\n",
    "- Standard loss function: SSE (sum of squared errors)\n",
    "- Very fast\n",
    "- Features can be augmented with polynomials to generalize to non-linear pattern\n",
    "- Convex -> local minimum = global minimum\n",
    "- Assumption is that errors follow normal distribution\n",
    "- Closed form: exact mathematical calculation to find the weights instead of gradient descent\n",
    "- Use gradient descent (closed form mathematical solution is too slow with many features)\n",
    "\n",
    "Gradient descent:\n",
    "\n",
    "$$\\mathbf{w}^{s+1} = \\mathbf{w}^s-\\eta\\nabla \\mathcal{L}(\\mathbf{w}^s) = \\mathbf{w}^s-\\frac{\\eta}{n} \\sum_{i=1}^{n} \\nabla \\mathcal{L_i}(\\mathbf{w}^s)$$\n",
    "\n",
    "- Walk in opposite direction of gradient (stepsize: gradient times learningrate eta)\n",
    "- Stochastic gradient descent: do not calculate loss for all points, just select a random point -> much faster: $\\mathbf{w}^{s+1} = \\mathbf{w}^s-\\eta\\nabla \\mathcal{L_i}(\\mathbf{w}^s)$\n",
    "- Minibatch stochastic gradient descent: use a random set of points to calculate loss\n",
    "\n",
    "Hyperparameters:\n",
    "- Learning rate (too small: no convergence / too large: overshooting, divergence)\n",
    "- Number of iterations (too small, no convergence / too large: waste of resources)\n",
    "- Learning rate decay\n",
    "\n",
    "When overfitting:\n",
    "- L2 regularization: ridge regression (add penalty for high weights by using the squared weights) with hyperparameter $\\alpha$. High $\\alpha$ = more penalty. Default is 1.\n",
    "    - Still convex, closed form solution possible\n",
    "\n",
    "$$\\mathcal{L}_{SSE} + \\alpha \\sum_{i=1}^{p} w_i^2$$\n",
    "\n",
    "- L1 regularization: lasso regression (add penalty for high weights by using the absolut value of the weights) also with hyperparameter $\\alpha$. \n",
    "    - Will cause many weights to be exactly 0 (-> automatic feature selection). Especially the small weight will become 0. Results in sparse models (which is good)\n",
    "    - Problem: absolute value not differentiable, therefore no closed form solution and cannot use gradient descent\n",
    "\n",
    "$$\\mathcal{L}_{SSE} + \\alpha \\sum_{i=1}^{p} | w_i|$$"
   ]
  },
  {
   "cell_type": "markdown",
   "metadata": {},
   "source": [
    "# Linear Classification\n",
    "\n",
    "Main idea: find hyperplane that separates the classes (decision boundary)\n",
    "\n",
    "## Logistic Regression"
   ]
  },
  {
   "cell_type": "code",
   "execution_count": null,
   "metadata": {},
   "outputs": [],
   "source": [
    "from sklearn.linear_model import LogisticRegression\n",
    "lr = LogisticRegression(C=1).fit(X_train, y_train)"
   ]
  },
  {
   "cell_type": "markdown",
   "metadata": {},
   "source": [
    "\n",
    "Model:\n",
    "\n",
    "$$ \\hat{y} = \\textrm{logistic}(f_{\\theta}(\\mathbf{x})) = \\frac{1}{1+e^{-f_{\\theta}(\\mathbf{x})}} $$\n",
    "\n",
    "\n",
    "- Transforms the model function $f_{\\theta}(\\mathbf{x})$ so that we get a probability in the range $[0, 1]$\n",
    "- Predicts the probabilty that a point belongs to one of the classes\n",
    "- Decision boundary = $p(0.5)$\n",
    "\n",
    "Loss (cross-entropy loss function):\n",
    "\n",
    "$$\\mathcal{L_{log}}(\\mathbf{w}) = \\sum_{n=1}^{N} H(p_n,q_n) = - \\sum_{n=1}^{N} \\sum_{c=1}^{C} p_{n,c} log(q_{n,c}) $$\n",
    "\n",
    "True probabilities $p$ (0 or 1) and predicted probabilities $q$ over $N$ instances and $C$ classes: loss grows exponentially as difference between $p$ and $q$ increases\n",
    "\n",
    "Binary case (C=2): $\\mathcal{L_{log}}(\\mathbf{w}) = - \\sum_{n=1}^{N} \\big[ y_n log(\\hat{y}_n) + (1-y_n) log(1-\\hat{y}_n) \\big]$\n",
    "\n",
    "- Can also be regulated with L1 or L2"
   ]
  },
  {
   "cell_type": "markdown",
   "metadata": {},
   "source": [
    "### Cross entropy (aka log loss)"
   ]
  },
  {
   "cell_type": "code",
   "execution_count": 22,
   "metadata": {},
   "outputs": [
    {
     "data": {
      "image/png": "[encoded data removed]",
      "text/plain": [
       "<Figure size 640x480 with 1 Axes>"
      ]
     },
     "metadata": {},
     "output_type": "display_data"
    }
   ],
   "source": [
    "def cross_entropy(yHat, y):\n",
    "    if y == 1:\n",
    "        return -np.log(yHat)\n",
    "    else:\n",
    "        return -np.log(1 - yHat)\n",
    "\n",
    "fig, ax = plt.subplots()\n",
    "x = np.linspace(0.01,0.99,100)\n",
    "\n",
    "ax.plot(x,cross_entropy(x, 1),lw=2,c='b',label='true label = 1', linestyle='-')\n",
    "ax.plot(x,cross_entropy(x, 0),lw=2,c='r',label='true label = 0', linestyle='-')\n",
    "ax.set_xlabel(r\"Predicted probability $\\hat{y}$\")\n",
    "ax.set_ylabel(\"Log loss\")\n",
    "plt.grid()\n",
    "plt.legend();"
   ]
  },
  {
   "cell_type": "markdown",
   "metadata": {},
   "source": [
    "### Regularization\n",
    "\n",
    "Use parameter C, like in support vector machines, smaller values specify stronger regularization."
   ]
  },
  {
   "cell_type": "markdown",
   "metadata": {},
   "source": [
    "## Support Vector Machines (SVM)"
   ]
  },
  {
   "cell_type": "code",
   "execution_count": 1,
   "metadata": {},
   "outputs": [
    {
     "ename": "NameError",
     "evalue": "name 'X' is not defined",
     "output_type": "error",
     "traceback": [
      "\u001B[0;31m---------------------------------------------------------------------------\u001B[0m",
      "\u001B[0;31mNameError\u001B[0m                                 Traceback (most recent call last)",
      "Cell \u001B[0;32mIn[1], line 3\u001B[0m\n\u001B[1;32m      1\u001B[0m \u001B[38;5;28;01mfrom\u001B[39;00m \u001B[38;5;21;01msklearn\u001B[39;00m \u001B[38;5;28;01mimport\u001B[39;00m svm\n\u001B[1;32m      2\u001B[0m clf \u001B[38;5;241m=\u001B[39m svm\u001B[38;5;241m.\u001B[39mSVC(kernel\u001B[38;5;241m=\u001B[39m\u001B[38;5;124m'\u001B[39m\u001B[38;5;124mlinear\u001B[39m\u001B[38;5;124m'\u001B[39m) \u001B[38;5;66;03m# or svm.LinearSVC\u001B[39;00m\n\u001B[0;32m----> 3\u001B[0m clf\u001B[38;5;241m.\u001B[39mfit(\u001B[43mX\u001B[49m, Y)\n\u001B[1;32m      4\u001B[0m \u001B[38;5;28mprint\u001B[39m(\u001B[38;5;124m\"\u001B[39m\u001B[38;5;124mSupport vectors:\u001B[39m\u001B[38;5;124m\"\u001B[39m, clf\u001B[38;5;241m.\u001B[39msupport_vectors_[:])\n\u001B[1;32m      5\u001B[0m \u001B[38;5;28mprint\u001B[39m(\u001B[38;5;124m\"\u001B[39m\u001B[38;5;124mCoefficients:\u001B[39m\u001B[38;5;124m\"\u001B[39m, clf\u001B[38;5;241m.\u001B[39mdual_coef_[:])\n",
      "\u001B[0;31mNameError\u001B[0m: name 'X' is not defined"
     ]
    }
   ],
   "source": [
    "from sklearn import svm\n",
    "clf = svm.SVC(kernel='linear') # or svm.LinearSVC\n",
    "clf.fit(X, Y)\n",
    "print(\"Support vectors:\", clf.support_vectors_[:])\n",
    "print(\"Coefficients:\", clf.dual_coef_[:])"
   ]
  },
  {
   "cell_type": "markdown",
   "metadata": {},
   "source": [
    "- SVC = Support Vector Classifier\n",
    "\n",
    "- Primal: learns a set of weights $w_i$ (good when we have lots of datapoints)\n",
    "- Dual: learns a set of coefficients $a_i$ (dual coefficients = Lagrange multipliers - alternative form of the optimization problem with the contstraint represented differntly; the weights assigned to each support vector )\n",
    "\n",
    "Others available:\n",
    "- LinearSVC = Allows choosing between primal and dual; faster for large datasets\n",
    "- SVR = Support Vector Regression (for regression)"
   ]
  },
  {
   "cell_type": "markdown",
   "metadata": {},
   "source": [
    "\n",
    "<img src=\"https://raw.githubusercontent.com/ML-course/master/master/notebooks/images/05_margin.png\" alt=\"ml\" style=\"width: 1250px;\"/>\n",
    "\n",
    "- Maximize margin between classes\n",
    "- Samples closest to the separating hyperplane: support vectors\n",
    "- Soft margin relaxation with parameter $C$ (penalty for crossing the margin):\n",
    "    - Large $C$: less support vectors (points inside the margin), smaller margin, leads to overfitting\n",
    "    - Small $C$: more support vectors, bigger margin, underfitting"
   ]
  },
  {
   "cell_type": "markdown",
   "metadata": {},
   "source": [
    "Note: the **dot/scalar product** of two vectors shows how near they are (used to compare two datapoints)"
   ]
  },
  {
   "cell_type": "code",
   "execution_count": 70,
   "metadata": {},
   "outputs": [
    {
     "name": "stdout",
     "output_type": "stream",
     "text": [
      "b = [1, 0]  a = [ 1.00,  0.00]  dot product:  1.00\n",
      "b = [1, 0]  a = [ 0.87,  0.50]  dot product:  0.87\n",
      "b = [1, 0]  a = [ 0.50,  0.87]  dot product:  0.50\n",
      "b = [1, 0]  a = [ 0.00,  1.00]  dot product:  0.00\n",
      "b = [1, 0]  a = [-0.50,  0.87]  dot product: -0.50\n",
      "b = [1, 0]  a = [-0.87,  0.50]  dot product: -0.87\n",
      "b = [1, 0]  a = [-1.00,  0.00]  dot product: -1.00\n",
      "b = [1, 0]  a = [-0.87, -0.50]  dot product: -0.87\n",
      "b = [1, 0]  a = [-0.50, -0.87]  dot product: -0.50\n",
      "b = [1, 0]  a = [-0.00, -1.00]  dot product: -0.00\n",
      "b = [1, 0]  a = [ 0.50, -0.87]  dot product:  0.50\n",
      "b = [1, 0]  a = [ 0.87, -0.50]  dot product:  0.87\n",
      "b = [1, 0]  a = [ 1.00, -0.00]  dot product:  1.00\n"
     ]
    }
   ],
   "source": [
    "for x in np.linspace(0, 2*np.pi, num=12+1):\n",
    "    a = np.array([np.cos(x), np.sin(x)])\n",
    "    dot = np.dot(np.array([1,0]), a)\n",
    "    print(f\"b = [1, 0]  a = [{a[0]:5.2f}, {a[1]:5.2f}]  dot product: {dot:5.2f}\")"
   ]
  },
  {
   "cell_type": "markdown",
   "metadata": {},
   "source": [
    "# Kernelization\n",
    "\n",
    "What is a kernel?\n",
    "\n",
    "A kernel is a function that calculates the similarity between pairs of data points in a higher-dimensional space. It is used to transform data into a higher-dimensional space, making it easier to classify or analyze. Kernels are very efficient because we don't have to calculate the transformation to higher-dimension space for the whole feature space.\n",
    "\n",
    "- Kernelization in general: Make linear model non-linear\n",
    "- Feature maps: Add non-linear transformations of features (example: polynomial feature map) [sklearn PolynomialFeatures](https://scikit-learn.org/stable/modules/generated/sklearn.preprocessing.PolynomialFeatures.html) -> very expensive (also more weights, more likely overfitting)\n",
    "  - Example: Add squared feature $x^2$ -> points close to zero will not change much (ie remain close to 0) but points far away from zero will change a lot (adding a dimension in order to make a linear classification boundary)\n",
    "- Kernel trick: don't transform all features, just calculate the distances using the transformation kernel\n",
    "\n",
    "## Kernel trick example\n",
    "\n",
    "_Quadratic_ feature map for $\\mathbf{x} = (x_1,..., x_p )$:\n",
    "\n",
    "$$ \\Phi(\\mathbf{x}) = (x_1,..., x_p , x_1^2,..., x_p^2 , \\sqrt{2} x_1 x_2 , ..., \\sqrt{2} x_{p-1} x_{p}) $$\n",
    "\n",
    "A _kernel function_ exists for this feature map to compute dot products\n",
    "\n",
    "$$ k_{quad}(\\mathbf{x_i},\\mathbf{x_j}) =  \\Phi(\\mathbf{x_i}) \\cdot \\Phi(\\mathbf{x_j}) =  \\mathbf{x_i} \\cdot \\mathbf{x_j} + (\\mathbf{x_i} \\cdot \\mathbf{x_j})^2$$\n",
    "\n",
    "Skip computation of $\\Phi(x_i)$ and $\\Phi(x_j)$ and compute $k(x_i,x_j)$ directly\n",
    "\n",
    "$\\square$\n",
    "\n",
    "- A kernel is a dot product in higher space (a similarity measurement in higher space)\n",
    "- $\\mathcal{H}$ is the *reproducing kernel Hilbert space* (RKHS)\n",
    "- The dot product is a meaure of similarity between the input vectors\n",
    "- If there is a loss function based on dot products, in can be kernelized -> replace dot product with kernelized dot product $k(\\textbf{x}_i, \\textbf{x}_j)$\n",
    "- A Mercer kernel is any function $k: X \\times X \\rightarrow \\mathbb{R}$ with the properties symmetry $k(\\mathbf{x_1},\\mathbf{x_2}) = k(\\mathbf{x_2},\\mathbf{x_1})$ and the kernel matrix (matrix of all possible combinations of features) is positive semi-definite ($\\ge 0$)\n",
    "\n",
    "## Kernels\n",
    "\n",
    "- Linear kernel: it just uses the feature map $\\Phi(\\mathbf{x}) = \\mathbf{x}$ -> it does nothing\n",
    "  - $ k_{linear}(\\mathbf{x_i},\\mathbf{x_j}) = \\mathbf{x_i} \\cdot \\mathbf{x_j}$\n",
    "- Polynomial kernel: reproduces the polynomial feature map\n",
    "    - $\\gamma$ is a scaling hyperparameter (default $\\frac{1}{p}$) ($p$ = number of features)\n",
    "    - $c_0$ is a regularization hyperparameter (default 1) to trade off influence of higher-order terms ($c_0$ lower = more emphasis on lower order terms $x^2$ etc. / $c_0$ higher = more emphasis on higher order terms $x^d$ etc.)\n",
    "    - $k_{poly}(\\mathbf{x_1},\\mathbf{x_2}) = (\\gamma (\\mathbf{x_1} \\cdot \\mathbf{x_2}) + c_0)^d$\n",
    "- RBF (Gaussian) kernel *Radial Basis Function*\n",
    "    - $k_{RBF}(\\mathbf{x_1},\\mathbf{x_2}) = exp(-\\gamma ||\\mathbf{x_1} - \\mathbf{x_2}||^2)$ (exp of gamma times the difference between two points squared, it does not use a dot product)\n",
    "    - It's a local kernel, it only influences data points nearby (this is in contrast to the linear and polynomial kernel, those are global)\n",
    "    - Gamma high: narrow Gaussian, more support vectors, overfitting / gamma low: wide Gaussian, underfitting\n",
    "    - C high: narrow margin, overfitting / C low: wider margins, underfitting\n",
    "- Sigmoid Kernel\n",
    "\n",
    "\n",
    "General advice:\n",
    "- Find a good C, then finetune gamma\n",
    "- values for C and $\\gamma$ are typically in [$2^{-15}..2^{15}$] on a log scale `np.logspace(-15, 15, base=2, num=3)`\n",
    "- Data needs to be scaled to the same scale\n",
    "- Especially good at small, high-dimensional data\n",
    "- sklearn: [SVC](https://scikit-learn.org/stable/modules/generated/sklearn.svm.SVC.html)\n",
    "- Representer theorem: other loss functions can also be kernelized if they meet certain criteria"
   ]
  },
  {
   "cell_type": "markdown",
   "metadata": {},
   "source": [
    "# Model Selection & Evaluation"
   ]
  },
  {
   "cell_type": "markdown",
   "metadata": {},
   "source": [
    "- Feedback loop: (problematic) Example disease detection; when the model is really good, the disease might dissapear and so the data gets changed -> model might not fit and detect the disease any more\n",
    "\n",
    "$\\square$\n",
    "\n",
    "\n",
    "- Holdout: train-test split, see https://scikit-learn.org/stable/modules/generated/sklearn.model_selection.train_test_split.html\n",
    "  - Also use holdout if dataset is too large and certain % of the samples is representative\n",
    "- K-fold cross-validation: evaluate with different splits, split data into k equal-sized folds, see https://scikit-learn.org/stable/modules/cross_validation.html\n",
    "  - Evaluate mean score and mean variance (std) to see how sensitive (unstable) models are (to make more stable, regularize or get more data)\n",
    "  \n",
    "<img src=\"https://scikit-learn.org/stable/_images/grid_search_cross_validation.png\" width=400>\n",
    "\n",
    "- Stratified K-fold CV: stratified means proportions between classes are conserved in each fold (exampl: we have 5% of a particular class, so every fold also gets 5%) -> safe to be always used\n",
    "- Leave one out CV: k fold with k equal to the number of samples (100 samles -> 100 folds each with 99 training and 1 test entry)\n",
    "  - Only for small datasets\n",
    "- Bootstrap (sample n datapoints with replacement as traing set), ie. the same sample could appear in multiple training sets\n",
    "  - Use the unsampled (out-of-bootstrap) samples as test set\n",
    "  - Repeat k times to get k number of scores\n",
    "\n",
    "\n",
    "$\\square$\n",
    "\n",
    "- Large dataset: holdout\n",
    "- Small dataset (<100 samples): leave-one-out\n",
    "- If grouping in data: leave-one-subject-out (grouping)\n",
    "- If time series: train-then-test"
   ]
  },
  {
   "cell_type": "markdown",
   "metadata": {},
   "source": [
    "## Metrics\n",
    "\n",
    "Confusion matrix code: `Lab 3 - Ensembles.ipynb` and `Lab 2b - Model Selection.ipynb`\n",
    "\n",
    "### Binary Classification\n",
    "\n",
    "- False positive: type I error\n",
    "- False negative: type II error\n",
    "\n",
    "Depending on the usecase, the importance of those is different\n",
    "\n",
    "Confusion matrix:\n",
    "\n",
    "| | Predicted Neg | Predicted Pos |\n",
    "|-|-|-|\n",
    "| Actual Neg | TN | FP |\n",
    "| Actual Pos | FN | TP |\n",
    "\n",
    "- Accuracy: how close is the prediction to the ground truth: $\\frac{\\text{correct predictions}}{\\text{all predictions}} = \\frac{\\text{TP} + \\text{TN}}{\\text{TP} + \\text{TN} + \\text{FP} + \\text{FN}}$\n",
    "  - Not good when dataset is imbalanced (credit card fraud example - when only 0.01% are frauds, those are not detected even when accuracy is 99.9%)\n",
    "- Precision: use when the goal is to limit FPs: $\\frac{\\text{TP}}{\\text{TP} + \\text{FP}}$\n",
    "  - \"How many selected items are relevant?\"\n",
    "  - Example: search engines, avoid bad search results / clinical trials: only test drugs that really work\n",
    "- Recall (aka sensitivity aka true positive rate TPR): use when the goal is to limit FNs: $\\frac{\\text{TP}}{\\text{TP} + \\text{FN}}$\n",
    "  - \"How many relevant items are selected?\"\n",
    "  - Example: cancer diagnosis, don't want to miss a disiease / search engines: don't want to omit important hits\n",
    "- F1-score: trades off precision and recall, optimizes both: $2 \\cdot \\frac{\\text{precision} \\cdot \\text{recall}}{\\text{precision} + \\text{recall}}$\n",
    "\n",
    "### Multi-class Classification\n",
    "\n",
    "- Train models *per class*: one class is positive, others are negative, then average\n",
    "\n",
    "### Probabilistic\n",
    "\n",
    "- Decision function (`decision_function`): higher abs(value) -> more confidence\n",
    "- Some models also return a probability values (`predict_proba`)\n",
    "\n",
    "### Curves\n",
    "\n",
    "Implementation: `Lab 2b - Model Selection.ipynb`\n",
    "\n",
    "- Precision recall curve (plot of precision against recall), always a tradeoff, cannot have both\n",
    "  - AUC: Area under curve (desired: as big as possible)\n",
    "  - https://scikit-learn.org/stable/modules/generated/sklearn.metrics.precision_recall_curve.html\n",
    "- Receiver Operating Characteristics (ROC): trade off true positive rate $\\textit{TPR}= \\frac{TP}{TP + FN}$ with false positive rate $\\textit{FPR} = \\frac{FP}{FP + TN}$\n",
    "  - Compares the TPR (recall) with FPR\n",
    "  - Random guessing or always predicting majority class give a 0.5 AUC (diagonal bottomleft to topright) -> model must be better\n",
    "  - AUC: Area under curve (desired: as big as possible)\n",
    "  - https://scikit-learn.org/stable/modules/generated/sklearn.metrics.roc_curve.html\n",
    "\n",
    "Both curves help to optimize the threshold value. Make predictions based on an adjusted threshold:\n",
    "``` python\n",
    "# Train the model with probability=True\n",
    "model = SVC(probability=True).fit(X_train, y_train)\n",
    "\n",
    "# Calculate probabilities for the positive class\n",
    "probabilities = model.predict_proba(X_test)[:, 1]\n",
    "\n",
    "# Set your own threshold\n",
    "custom_threshold = 0.2\n",
    "\n",
    "# Assign the class based on the probability\n",
    "y_pred = (probabilities > custom_threshold).astype(int)\n",
    "```\n",
    "\n",
    "### Regression Metrics\n",
    "\n",
    "- Mean squared error (sensitive to outliers): $\\frac{\\sum_{i}(y_{pred_i}-y_{actual_i})^2}{n}$\n",
    "- Mean absolute error (less sensitive to outliers): $\\frac{\\sum_{i}|y_{pred_i}-y_{actual_i}|}{n}$\n",
    "\n",
    "Problem of the above two: unbounded (lowest value is 0, larges value is infinite -> difficult to interpret), therefore:\n",
    "\n",
    "- R-squared $R^2$: $1 - \\frac{{\\sum_{i}(y_{pred_i}-y_{actual_i})^2}}{{\\sum_{i}(y_{mean}-y_{actual_i})^2}}$\n",
    "  - \"How much better is the model compared to just predicting the mean?\" (relative performance measure)\n",
    "  - Between 0 and 1 usually; 0 = as good as predicting the mean / 1 = perfect predictions / negative = worse than the mean prediction (\"higher is better\")\n",
    "\n",
    "Visualizing regression errors:\n",
    "\n",
    "- Prediction plot (x-axis: true value, y-axis: predicted value -> should optimally be a line from bottomleft to topright)\n",
    "- Residual plot (x-axis: true value, y-axis: true minus predicted value -> should optimally be a horizontal line)\n",
    "\n",
    "## Summary Flowchart\n",
    "\n",
    "<img src=\"https://raw.githubusercontent.com/ML-course/master/master/notebooks/images/03_Bias-Variance-Flowchart.png\" alt=\"ml\" style=\"width: 150\"/>"
   ]
  },
  {
   "cell_type": "markdown",
   "metadata": {},
   "source": [
    "## Hyperparameter Tuning\n",
    "\n",
    "- GridSearchCV: https://scikit-learn.org/stable/modules/generated/sklearn.model_selection.GridSearchCV.html\n",
    "  - Doesn't scale to many hyperparameters\n",
    "- Random Search (randomly try hyperparametervalues): https://scikit-learn.org/stable/modules/generated/sklearn.model_selection.RandomizedSearchCV.html\n",
    "  - Better, especially when some hyperparameters are less important\n",
    "\n",
    "\n",
    "### Nested Cross-Validation"
   ]
  },
  {
   "cell_type": "code",
   "execution_count": null,
   "metadata": {},
   "outputs": [],
   "source": [
    "hps = {'C': expon(scale=100), 'gamma': expon(scale=.1)}\n",
    "scores = cross_val_score(RandomizedSearchCV(SVC(), hps, cv=3), X, y, cv=5)"
   ]
  },
  {
   "cell_type": "markdown",
   "metadata": {},
   "source": [
    "# Ensemble Learning\n",
    "\n",
    "Multiple models, vote on the prediction.\n",
    "\n",
    "- Hard vote: majority wins\n",
    "- Soft vote: sum up the probabilites for each class, then highest wins (could also add weight to classes if one is more important)\n",
    "\n",
    "Why does it work?\n",
    "\n",
    "- Different models may be good at different parts of data\n",
    "- Individual mistakes can be averaged out\n",
    "\n",
    "$\\square$\n",
    "\n",
    "- Underfit (high bias, low variance) -> combine with other low variance models. Bias reduction: boosting\n",
    "- Overfit (low bias, high variance) -> combine with other low bias models. Variance reduction: bagging\n",
    "\n",
    "## Decision Trees\n",
    "\n",
    "https://scikit-learn.org/stable/modules/generated/sklearn.tree.DecisionTreeClassifier.html\n",
    "\n",
    "- MachLe_Lecture04_HS2023.pdf\n",
    "- Split leaves recursively by tring to get leaves as pure as possible (loss function is impurity measure, gini for example or entropy, p. 15)\n",
    "  - Stop condition: either when leaves are pure (only one class) or by conditions like maxdepth, min number of elements per node\n",
    "\n",
    "Gini example: a node has 3 positive and 2 negative elements: +++ and --. $p_+$ is $\\frac{3}{5}$ and $p_-$ is $\\frac{2}{5}$. Gini index is $\\frac{3}{5} \\cdot \\frac{2}{5} + \\frac{2}{5} \\cdot \\frac{3}{5}$ (product plus the product of the opposite).\n",
    "\n",
    "$Gini(X_{l}) = \\sum_{c\\neq c'} \\hat{p}_c \\hat{p}_{c'}$\n",
    "\n",
    "-> Chose the split that gets the biggest reduction in Gini index (or entropy)\n",
    "\n",
    "- Feature that split the tree (especially higher up) are the important features -> but better use this from a RandomForest to get a good meaningful result for feature importance.\n",
    "\n",
    "$\\square$\n",
    "\n",
    "- Shallow trees tend to underfit -> use boosting\n",
    "- Deep trees tend to overfit -> use bagging"
   ]
  },
  {
   "cell_type": "markdown",
   "metadata": {},
   "source": [
    "## Random Forest\n",
    "\n",
    "https://scikit-learn.org/stable/modules/generated/sklearn.ensemble.RandomForestClassifier.html\n",
    "\n",
    "- Randomly do not consider all the features in order to determine the split (number of features to consider as defined by `max_features`)\n",
    "- Results in highly randomized trees with high variance, good for bagging\n",
    "\n",
    "Out-of-bag (OOB): Samples that have not yet been used. We don't need a train/test split but can use OOB instead (with some bookkeeping). OOB is usually about 33% of the data (`oob_score_`)"
   ]
  },
  {
   "cell_type": "markdown",
   "metadata": {},
   "source": [
    "## Bagging (Bootstrap Aggregating)\n",
    "\n",
    "- Take a number of bootstrap samples (*bootstrap*) into a bag and train a model\n",
    "- Do this multiple times to get multiple models\n",
    "- Let each model predict and take the average of the predictions (*aggregating*)\n",
    "\n",
    "Besides for decision trees, it could also be used for deep neural networks"
   ]
  },
  {
   "cell_type": "markdown",
   "metadata": {},
   "source": [
    "## Adaptive Boosting (AdaBoost)\n",
    "\n",
    "- MachLe_Lecture04_HS2023.pdf p. 50\n",
    "- Increase weight of misclassified instances (give higher importance to samples where the model makes mistakes, meaning those samples are much more likely to be picked for the next bag of data that is used for the next training cycle), start with same weight for all samples $\\frac{1}{n}$ with $n$ being the number of samples\n",
    "- Used on decision stumps: trees with only one split, ie. minimal depth (weak learners)\n",
    "- Boosting is an addition to bagging, instead of randomly chosing samples, we use the weights to influence the selection\n",
    "\n",
    "Algorithm:\n",
    "- Input: Training data (positive, negative) with weights\n",
    "- Foreach trainingcycle:\n",
    "  - Train a weak classifier on a selection (bag) of data, probability to pick samples based on their weight\n",
    "  - Classify training data\n",
    "  - Increase weight on incorrectly classified samples\n",
    "\n",
    "Bagging / Boosting pros and cons MachLe_Lecture04_HS2023.pdf p. 57"
   ]
  },
  {
   "cell_type": "markdown",
   "metadata": {},
   "source": [
    "# Data Preprocessing\n",
    "\n",
    "## Scaling\n",
    "\n",
    "Scaling is important for all algorithms that compute distances (example: kNN, SVM). Features with large scales will \"eliminate\" features with small scales.\n",
    "\n",
    "- [StanardScaler](https://scikit-learn.org/stable/modules/generated/sklearn.preprocessing.StandardScaler.html): Standardize features by removing the mean and scaling to unit variance (scale around 0):\n",
    "  - Works best if data is distributed more or less close to Gaussian\n",
    "$$\\textbf{x}_{new} = \\frac{\\textbf{x}-\\mu}{\\sigma}$$\n",
    "- [MinMaxScaler](https://scikit-learn.org/stable/modules/generated/sklearn.preprocessing.MinMaxScaler.html): Transform features by scaling each feature to a given range (default is range [0,1]):\n",
    "  - Default: min = 0, max = 1\n",
    "  - The part before the $\\cdot$ is scaling to [0, 1]\n",
    "  - The part after the $\\cdot$ is the scaling to the range [min, max]\n",
    "$$\\textbf{x}_{new} = \\frac{\\textbf{x}-x_{min}}{x_{max}-x_{min}}\\cdot(max-min)+min$$\n",
    "\n",
    "- [RobustScaler](https://scikit-learn.org/stable/modules/generated/sklearn.preprocessing.RobustScaler.html): Half of the points below 0, other half above 0 (subtracts the median and scales the data according to the quantile range)\n",
    "\n",
    "## Categorical Feature Encoding\n",
    "\n",
    "Numeric representation of categories.\n",
    "\n",
    "### Ordinal encoding\n",
    "\n",
    "Just assign each category a number. Only makes sense if data has an ordinal (orderable) hierarchy, see one-hot encoding below for the reason why:\n",
    "\n",
    "### One-hot encoding\n",
    "\n",
    "- Matrix used to encode categorical data:\n",
    "    - Row: Sample\n",
    "    - Column: Category (features, ie. create a feature for each category)\n",
    "    - Value 1 where sample is in category of that column\n",
    "- If the categorical data has no order, using an ordinal number (\"aufsteigende Laufnummer\") to represent the category would not make sense because that would result in wrong distance calculations:\n",
    "    - Example: Winterthur 1, Basel 2, Zürich 3 -> distance between Winterthur and Zürich is in reality not bigger than distance between Winterthur and Basel\n",
    "    - Therefore: use one-hot encoding\n",
    "\n",
    "Problems:\n",
    "- Can explode if a feature hat lots of values (-> high dimensionality, making everything complex to process)\n",
    "\n",
    "### Target encoding\n",
    "\n",
    "Value close to 1 if category correlates with class 1, value close to 0 if category correlates with class 0.\n"
   ]
  },
  {
   "cell_type": "markdown",
   "metadata": {},
   "source": [
    "## Applying Data Transformation\n",
    "\n",
    "- Fit-predict paradigm:\n",
    "    - Fit the transformer on the training data only\n",
    "    - Transform the training data, then train\n",
    "    - Transform the test data, then evaluate the model\n",
    "- Only scale input features (X), not the targets (y)\n",
    "- Fitting and transforming the whole dataset before splitting would be data leakage (because we have looked at the test data before training)\n",
    "- Fitting and transforming the training and test data separately would distrort the data"
   ]
  },
  {
   "cell_type": "code",
   "execution_count": null,
   "metadata": {},
   "outputs": [],
   "source": [
    "# choose scaling method and fit on training data\n",
    "scaler = StandardScaler()\n",
    "scaler.fit(X_train) # learns mu and sigma\n",
    "\n",
    "# transform training and test data\n",
    "X_train_scaled = scaler.transform(X_train)\n",
    "X_test_scaled = scaler.transform(X_test)\n",
    "\n",
    "# calling fit and transform in sequence\n",
    "X_train_scaled = scaler.fit(X_train).transform(X_train)\n",
    "# same result, but more efficient computation\n",
    "X_train_scaled = scaler.fit_transform(X_train)"
   ]
  },
  {
   "cell_type": "markdown",
   "metadata": {},
   "source": [
    "### Pipelines\n",
    "\n",
    "Transformers (multiple if desired) and one classifier:\n",
    "\n",
    "<img src=\"https://raw.githubusercontent.com/ML-course/master/master/notebooks/images/07_pipelines.png\" width=\"600\">"
   ]
  },
  {
   "cell_type": "code",
   "execution_count": null,
   "metadata": {},
   "outputs": [],
   "source": [
    "# Make pipeline, step names will be 'minmaxscaler' and 'linearsvc'\n",
    "pipe = make_pipeline(MinMaxScaler(), LinearSVC())\n",
    "# Build pipeline with named steps \n",
    "pipe = Pipeline([(\"scaler\", MinMaxScaler()), (\"svm\", LinearSVC())])\n",
    "\n",
    "# Correct fit and score\n",
    "score = pipe.fit(X_train, y_train).score(X_test, y_test)\n",
    "# Retrieve trained model by name\n",
    "svm = pipe.named_steps[\"svm\"]\n",
    "\n",
    "# Correct cross-validation\n",
    "scores = cross_val_score(pipe, X, y)"
   ]
  },
  {
   "cell_type": "markdown",
   "metadata": {},
   "source": [
    "## Automatic Feature Selection\n",
    "\n",
    "\"Reduce the number of features to only select the most useful ones\"\n",
    "\n",
    "Why?\n",
    "\n",
    "- Simpler models that generalize better\n",
    "- Faster prediction and training\n",
    "- Easier data collection, smaller models (less storage)\n",
    "- Models are better understandable\n",
    "\n",
    "### Unsupervised feature selection\n",
    "\n",
    "- Variance-based\n",
    "  - Remove near constant features\n",
    "  - Remove features with small variance (they don't change the result that much)\n",
    "- Covariance-based\n",
    "  - Remove correlated features"
   ]
  },
  {
   "cell_type": "code",
   "execution_count": 6,
   "metadata": {},
   "outputs": [
    {
     "name": "stderr",
     "output_type": "stream",
     "text": [
      "/Users/luzian/Library/Python/3.9/lib/python/site-packages/sklearn/datasets/_openml.py:1022: FutureWarning: The default value of `parser` will change from `'liac-arff'` to `'auto'` in 1.4. You can set `parser='auto'` to silence this warning. Therefore, an `ImportError` will be raised from 1.4 if the dataset is dense and pandas is not installed. Note that the pandas parser may return different data types. See the Notes Section in fetch_openml's API doc for details.\n",
      "  warn(\n"
     ]
    }
   ],
   "source": [
    "from sklearn.datasets import fetch_openml\n",
    "from sklearn.preprocessing import OneHotEncoder\n",
    "from sklearn.compose import ColumnTransformer\n",
    "import numpy as np\n",
    "\n",
    "# Get bike sharing data from OpenML\n",
    "bikes = fetch_openml(data_id=42713, as_frame=True)\n",
    "X_bike_cat, y_bike = bikes.data, bikes.target\n",
    "\n",
    "# Optional: take half of the data to speed up processing\n",
    "X_bike_cat = X_bike_cat.sample(frac=0.5, random_state=1)\n",
    "y_bike = y_bike.sample(frac=0.5, random_state=1)\n",
    "\n",
    "# One-hot encode the categorical features\n",
    "encoder = OneHotEncoder(dtype=int)\n",
    "preprocessor = ColumnTransformer(transformers=[('cat', encoder, [0,7])], remainder='passthrough')\n",
    "X_bike = preprocessor.fit_transform(X_bike_cat,y_bike)\n",
    "\n",
    "# Add 2 random features at the end\n",
    "random_features = np.random.rand(len(X_bike),2)\n",
    "X_bike = np.append(X_bike,random_features, axis=1)\n",
    "\n",
    "# Create feature names\n",
    "bike_names = ['summer','winter', 'spring', 'fall', 'clear', 'misty', 'rain', 'heavy_rain']\n",
    "bike_names.extend(X_bike_cat.columns[1:7])\n",
    "bike_names.extend(X_bike_cat.columns[8:])\n",
    "bike_names.extend(['random_1','random_2'])"
   ]
  },
  {
   "cell_type": "code",
   "execution_count": 12,
   "metadata": {},
   "outputs": [
    {
     "data": {
      "image/png": "[encoded data removed]",
      "text/plain": [
       "<Figure size 900x900 with 2 Axes>"
      ]
     },
     "metadata": {},
     "output_type": "display_data"
    }
   ],
   "source": [
    "from sklearn.preprocessing import scale\n",
    "from scipy.cluster import hierarchy\n",
    "import matplotlib.pyplot as plt\n",
    "\n",
    "fig_scale = 3\n",
    "\n",
    "X_bike_scaled = scale(X_bike)\n",
    "cov = np.cov(X_bike_scaled, rowvar=False)\n",
    "\n",
    "order = np.array(hierarchy.dendrogram(hierarchy.ward(cov), no_plot=True)['ivl'], dtype=\"int\")\n",
    "bike_names_ordered = [bike_names[i] for i in order]\n",
    "\n",
    "plt.figure(figsize=(3*fig_scale, 3*fig_scale))\n",
    "plt.imshow(cov[order, :][:, order], cmap='bwr')\n",
    "plt.xticks(range(X_bike.shape[1]), bike_names_ordered, ha=\"right\")\n",
    "plt.yticks(range(X_bike.shape[1]), bike_names_ordered)\n",
    "plt.xticks(rotation=45)\n",
    "plt.colorbar(fraction=0.046, pad=0.04);"
   ]
  },
  {
   "cell_type": "markdown",
   "metadata": {},
   "source": [
    "### Supervised feature selection\n",
    "\n",
    "- Univariate statistics (F-test)\n",
    "  - Check if feature has a stastistically significant linear relationship with the target\n",
    "  - Only keep those that have a strong relationship (or the k best ones)\n",
    "  - (This method cannot detect correlations)\n",
    "- Model-based feature selection\n",
    "  - Use a tuned supervised model to judge the importance of each feature (this can be a different model than the one we use for the final modelling)\n",
    "    - Linear models: Ridge, Lasso, etc.: features with heighest weights (coefficients)\n",
    "    - Tree-based models: features used in first nodes\n",
    "- Relief: Model-based selection with kNN\n",
    "  - Look at kNN distribution: if two groups of features are far away, those are good features / if the are close over overlapping, the are not good"
   ]
  },
  {
   "cell_type": "markdown",
   "metadata": {},
   "source": [
    "# Bayesian Learning\n",
    "\n",
    "See also exercise 8\n",
    "\n",
    "<img src=\"https://raw.githubusercontent.com/ML-course/master/master/notebooks/images/06_bayes_rule.png\" width=\"500\">\n"
   ]
  },
  {
   "cell_type": "markdown",
   "metadata": {},
   "source": [
    "- $P(c|x)$ is the posterior probability of class $c$ given data $x$.  \n",
    "- $P(c)$ is the _prior_ probability of class $c$: what you believed before you saw the data $x$  \n",
    "- $P(x|c)$ is the _likelihood_ of data point $x$ given that the class is $c$ (computed from your data)  \n",
    "- $P(x)$ is the prior probability of the data (_marginal likelihood_): the likelihood of the data $x$ under any circumstance (no matter what the class is) - this parameter is the normalizer to put the result between 0 and 1"
   ]
  },
  {
   "cell_type": "markdown",
   "metadata": {},
   "source": [
    "### Example: exploding sun\n",
    "* Let's compute the probability that the sun has exploded\n",
    "* Prior $P(exploded)$: the sun has an estimated lifespan of 10 billion years, \n",
    "  $P(exploded) = \\frac{1}{4.38 x 10^{13}}$\n",
    "* Likelihood that detector lies: $P(lie)= \\frac{1}{36}$\n",
    "\n",
    "$$\n",
    "\\begin{aligned}\n",
    "P(exploded|yes) &= \\frac{P(yes|exploded)P(exploded)}{P(yes)} \\\\\n",
    " &= \\frac{(1-P(lie)) P(exploded)}{P(exploded)(1-P(lie))+P(lie)(1-P(exploded))} \\\\\n",
    " &= \\frac{1}{1.25226 x 10^{12}}\n",
    " \\end{aligned}$$\n",
    "* The one positive observation of the detector increases the probability\n",
    "* Due to the very small prior the chance still remains small (it is slightly bigger)"
   ]
  },
  {
   "cell_type": "markdown",
   "metadata": {},
   "source": [
    "### Example: COVID test\n",
    "* What is the probability of having COVID-19 if a 96% accurate test returns positive? Assume a false positive rate of 4% \n",
    "* Prior $P(C): 0.015$ (117M cases, 7.9B people)\n",
    "* $P(TP)=P(pos|C)=0.96$, and $P(FP)=(pos|notC)=0.04$\n",
    "* If test is positive, we can do it again and the prior now becomes $P(C)=0.268$. So the 2nd positive test results in: $P(C|pos)=0.9$\n",
    "\n",
    "$$\n",
    "\\begin{aligned}\n",
    "P(C|pos) &= \\frac{P(pos|C)P(C)}{P(pos)} \\\\\n",
    " &= \\frac{P(pos|C) P(C)}{P(pos|C)P(C)+P(pos|notC)(1-P(C))} \\\\\n",
    " &= \\frac{0.96*0.015}{0.96*0.015+0.04*0.985} \\\\\n",
    " &= 0.268\n",
    " \\end{aligned}$$\n"
   ]
  },
  {
   "cell_type": "markdown",
   "metadata": {},
   "source": [
    "## Bayesian Models\n",
    "\n",
    "Generative models (generate new likely points according to the distribution).\n",
    "\n",
    "* Learn the joint distribution $P(x,y)=P(x|y)P(y)$.\n",
    "    * Assumes that the data is Gaussian distributed (!)\n",
    "    * With every input $x$ you get $P(y|x)$, hence a mean and standard deviation for $y$ (blue)\n",
    "    * For every desired output $y$ you get $P(x|y)$, hence you can sample new points $x$ (red)"
   ]
  },
  {
   "cell_type": "markdown",
   "metadata": {},
   "source": [
    "<img src=\"https://ml-course.github.io/master/_images/34bf7318b140bf051d28ea03fbfd831bd59340ebd693fb173491be0361ceb88c.png\">"
   ]
  },
  {
   "cell_type": "markdown",
   "metadata": {},
   "source": [
    "### Naive Bayes\n",
    "\n",
    "* Predict the probability that a point belongs to a certain class, using Bayes' Theorem\n",
    "\n",
    "$$P(c|\\textbf{x}) = \\frac{P(\\textbf{x}|c)P(c)}{P(\\textbf{x})}$$\n",
    "\n",
    "* Problem: since $\\textbf{x}$ is a vector, computing $P(\\textbf{x}|c)$ can be very complex\n",
    "* Naively  assume that all features are conditionally independent from each other, in which case:  \n",
    "$P(\\mathbf{x}|c) = P(x_1|c) \\times P(x_2|c) \\times ... \\times P(x_n|c)$\n",
    "* Very fast: only needs to extract statistics from each feature."
   ]
  },
  {
   "cell_type": "markdown",
   "metadata": {},
   "source": [
    "<img src=\"https://raw.githubusercontent.com/ML-course/master/master/notebooks/images/06_nb.png\">"
   ]
  },
  {
   "cell_type": "markdown",
   "metadata": {},
   "source": [
    "## Gaussian Processes\n"
   ]
  },
  {
   "cell_type": "markdown",
   "metadata": {},
   "source": [
    "What is Gaussian Processes?\n",
    "\n",
    "Gaussian processes is a probabilistic framework for regression and classification. We basically define distributions over functions, allowing for flexible modeling of complex relationships in data. GP uses mean and covariance functions, which capture prior assumptions about the functions being modeled. This is then updated based on observed data using Bayesian inference."
   ]
  },
  {
   "cell_type": "markdown",
   "metadata": {},
   "source": [
    "<img src=\"img01.png\" width=\"500\">"
   ]
  },
  {
   "cell_type": "markdown",
   "metadata": {},
   "source": [
    "\n",
    "* Comparing to the standard linear regression, assume now that the data is inherently uncertain. This is modeled explictly by introducing a [slack variable](http://en.wikipedia.org/wiki/Slack_variable), $\\epsilon_i$, known as noise.\n",
    "\n",
    "$$y_i = w_1 x_i + w_0 + \\epsilon_i.$$\n",
    "\n",
    "* Assume that the noise is distributed according to a Gaussian distribution with zero mean and variance $\\sigma^2$.\n",
    "\n",
    "$$\\epsilon_i \\sim \\mathcal{N}(0, \\sigma^2)$$\n",
    "\n",
    "* That means that $y(x)$ is now a Gaussian distribution with mean $\\mathbf{wx}$ and variance $\\sigma^2$\n",
    "\n",
    "$$y = \\mathcal{N}(\\mathbf{wx}, \\sigma^2)$$\n"
   ]
  },
  {
   "cell_type": "markdown",
   "metadata": {},
   "source": [
    "How to learn the probabilities?\n",
    "\n",
    "* Maximum Likelihood Estimation (MLE): Maximize $P(\\textbf{X}|\\textbf{w})$\n",
    "* Maximum A Posteriori estimation (MAP): Maximize the posterior $P(\\textbf{w}|\\textbf{X})$\n",
    "    * This can be done using Bayes' rule after we choose a (this has to be Gaussian) prior $P(\\textbf{w})$ (problem is, we *have* to chose this prior weight $\\textbf{w}$):\n",
    "    $$P(\\textbf{w}|\\textbf{X}) = \\frac{P(\\textbf{X}|\\textbf{w})P(\\textbf{w})}{P(\\textbf{X})}$$\n",
    "* Bayesian approach: model the prediction $P(y|x_{test},X)$ directly\n",
    "    * Marginalize $\\textbf{w}$ out: consider all possible models (some are more likely)\n"
   ]
  },
  {
   "cell_type": "markdown",
   "metadata": {},
   "source": [
    "In Gaussian processes we do not have to specify a covariance matrix but we use a kernel (RBF for example) for a covariance function."
   ]
  },
  {
   "cell_type": "markdown",
   "metadata": {},
   "source": [
    "Here's an outline of the steps involved in implementing a Gaussian Process (GP) in machine learning:\n",
    "\n",
    "1. **Define the GP Model**:\n",
    "   - Choose a mean function: Typically set to zero for simplicity, but can be adjusted based on prior knowledge or assumptions about the data.\n",
    "   - Select a kernel function: Choose a kernel function that captures the underlying structure and relationships in the data. Common choices include the Gaussian (RBF) kernel, linear kernel, polynomial kernel, etc.\n",
    "   - Specify the kernel hyperparameters: Parameters such as length scale, variance, etc., which control the shape and behavior of the kernel function.\n",
    "\n",
    "2. **Training**:\n",
    "   - Given a dataset with input-output pairs (X, y), where X represents the input features and y represents the corresponding outputs, compute the covariance matrix (K) of the input data using the chosen kernel function and its hyperparameters.\n",
    "   - Add a small noise term to the diagonal of the covariance matrix to ensure numerical stability.\n",
    "   - Perform Cholesky decomposition on the covariance matrix to decompose it into a lower triangular matrix (L), which is used in subsequent calculations.\n",
    "   - Use the training data to compute the mean and covariance of the posterior distribution over the function values using the equations derived from Gaussian process regression.\n",
    "\n",
    "3. **Prediction**:\n",
    "   - Given new input data points (X_new), compute the covariance matrix between the training data and the new data points using the kernel function and its hyperparameters.\n",
    "   - Compute the mean and covariance of the predictive distribution for the new data points using the formulas derived from Gaussian process regression.\n",
    "   - Predictions can be made by sampling from the predictive distribution or by taking the mean of the predictive distribution as the point estimate.\n",
    "\n",
    "4. **Evaluation**:\n",
    "   - Assess the performance of the GP model using appropriate evaluation metrics such as mean squared error, root mean squared error, or other domain-specific metrics.\n",
    "   - Validate the model's performance using cross-validation or hold-out validation techniques.\n",
    "\n",
    "5. **Model Optimization**:\n",
    "   - Optimize the hyperparameters of the kernel function to improve model performance. This can be done using techniques such as maximum likelihood estimation, cross-validation, or Bayesian optimization.\n",
    "\n",
    "6. **Deployment**:\n",
    "   - Once the model is trained and evaluated satisfactorily, deploy it for making predictions on new, unseen data points.\n",
    "   - Monitor the model's performance over time and update it as necessary to maintain its effectiveness.\n",
    "\n",
    "By following these steps, one can effectively implement and apply Gaussian Processes for regression or classification tasks in machine learning."
   ]
  },
  {
   "cell_type": "markdown",
   "metadata": {},
   "source": [
    "# Cluster Analysis"
   ]
  },
  {
   "cell_type": "markdown",
   "metadata": {},
   "source": [
    "## DBSCSAN \n",
    "\n",
    "Density-Based Spatial Clustering of Applications with Noise\n",
    "\n",
    "Good for handling nested clusters (not linearly separatable).\n",
    "\n",
    "- Parameters:\n",
    "  - eps (distance between to sample to be considered in the same neighborhood)\n",
    "  - min_samples (number of samples in a neighborhood for a point to be considered as a core point)\n",
    "\n",
    "Algorithmm:\n",
    "1. Find all core points (those with min_samples within eps distance)\n",
    "2. Start with a random core point: join eps-overlapping core points together as a cluster\n",
    "3. When no more unclustered core points can be found, add non-core points that are within eps-distance of core points; those cannot extend the cluster but are still added\n",
    "4. Any point not beloging to a core point does not belong to a cluster and is considered an outlier\n",
    "\n",
    "Note: The non-core points are added to the cluster in order randomly starting with a cluster, that means that when another order is done, a non-core point can potentially belong to another cluster. So we don't always get the exact same result.\n"
   ]
  },
  {
   "cell_type": "markdown",
   "metadata": {},
   "source": [
    "# Text Data\n",
    "\n",
    "### Bag of words\n",
    "\n",
    "- Sparse encoding (rows = movie reviews, columns = words), one hot or count number of words\n",
    "\n",
    "### Preprocessing\n",
    "\n",
    "- Tokenization (split)\n",
    "- Stemming: *meet*|ing\n",
    "- Lemmatization (distinguish word type using NLP): Let's start the *meeting* (meeting, meetings) / We are *meet*|ing (met, met meets, etc.)\n",
    "- Discard stop words (the, an, ...)\n",
    "- Only use N most frequent words\n",
    "- n-grams: combination of n adjacent words next to individual words, 2-gram example: \"awsome movie\", \"with creative\", this keeps some context\n",
    "- Character n-grams: combinations at character level: \"aew\", \"wes\", \"eso\""
   ]
  },
  {
   "cell_type": "markdown",
   "metadata": {},
   "source": [
    "### Scaling\n",
    "\n",
    "- L2 Normalization: noralized Euclidian distance, equivalent to cosine distance\n",
    "- TF-IDF: Term Frequency - Inverted Document Frequency: Scales value of words by how frequently they occur accross N documents\n",
    "  - High value if word occurs only in one (or not many) document (highly relevant word)\n",
    "  - Low value if word occurs in all documents (the, an, ...)"
   ]
  },
  {
   "cell_type": "markdown",
   "metadata": {},
   "source": [
    "### Word Embeddings\n",
    "\n",
    "Each word is represented using a low-dimensional, dense,\n",
    "real-valued vector that encodes the meaning of the word such that the words that are closer in the vector space are expected to be similar in meaning. (\"queen - woman + man = king\")"
   ]
  },
  {
   "cell_type": "markdown",
   "metadata": {},
   "source": [
    "- Maps each word in a m-dimensions space, each word becomes a point in the space\n",
    "- Usually the space has about 300 values, much less than with bag of words\n",
    "- Embedding layer in the NN with m hidden nodes to map word IDs to m-dimensional vector"
   ]
  },
  {
   "cell_type": "markdown",
   "metadata": {},
   "source": [
    "Training\n",
    "\n",
    "- Take fixed length of documents, eg. 100 nodes for 100 word IDs (if more: cut and ignore, if less: pad)"
   ]
  },
  {
   "cell_type": "markdown",
   "metadata": {},
   "source": [
    "# Gaussian Mixture Models (GMM)\n",
    "\n",
    "- Unsupervised clustering method\n",
    "- Number of clusters is a parameter that has to be given\n",
    "- Unknown: where are the clusters, how are they shaped?\n",
    "- Clusters do not have to be circular shaped (as in kNN) but can have all shapes a multivariate Gaussian distribution can take\n",
    "- Gives the likelihood for a node x to belong to a cluster y (\"with a probability of 90% This point belongs to cluster one, and with a probability of 10% to cluster two\")\n",
    "- Buzzwords: probabilities, non-circular\n",
    "\n",
    "We try to fit a mixture of gaussians to our dataset, i.e. we try to find a number of gaussian distributions which can be used to describe the shape of our dataset."
   ]
  },
  {
   "cell_type": "markdown",
   "metadata": {},
   "source": [
    "To build a GMM we use: \n",
    "\n",
    "### Expectation Maximization (EM)"
   ]
  },
  {
   "cell_type": "markdown",
   "metadata": {},
   "source": [
    "- Assigns nodes/data to clusters with probability"
   ]
  },
  {
   "cell_type": "markdown",
   "metadata": {},
   "source": [
    "# Principal Component Analysis (PCA)\n",
    "\n",
    "- Find the principal components of a dataset\n",
    "- Principal components of a dataset are the \"directions\" in a dataset which hold the most variation (the first principal component of a dataset is the direction along the dataset with the highest variation)\n",
    "- The directions with the highest variance (principal components) are the most informative ones"
   ]
  },
  {
   "cell_type": "markdown",
   "metadata": {},
   "source": [
    "<img src=\"https://python-course.eu/images/machine-learning/Principal_Component_Analysis_Principal_Components_400w.webp\" width=\"500\">\n",
    "\n",
    "*The orange arrow in this picture*"
   ]
  },
  {
   "cell_type": "markdown",
   "metadata": {},
   "source": [
    "We want to have this direction (the direction with the largest variance) because in the future we want to use the principal components of the dataset to reduce dimensionality of our dataset the either make it \"plottable\" by reducing it to three or less dimensions, or simply to reduce the size of the dataset without loosing too much of the information.\n",
    "\n",
    "Reducing the dimensionality of our dataset is like creating new columns by combining columns such that the number of the new=combined columns is less than the original number of columns.\n",
    "\n",
    "This illustration is not 100% correct since the goal of the PCA is to transform the data and not simply cutting something off or combining something"
   ]
  },
  {
   "cell_type": "markdown",
   "metadata": {},
   "source": [
    "Why?\n",
    "\n",
    "- Life easier for the algorithms\n",
    "- Visualize the data by making it 2 or 3 dimensional"
   ]
  }
 ],
 "metadata": {
  "kernelspec": {
   "display_name": "Python 3",
   "language": "python",
   "name": "python3"
  },
  "language_info": {
   "codemirror_mode": {
    "name": "ipython",
    "version": 3
   },
   "file_extension": ".py",
   "mimetype": "text/x-python",
   "name": "python",
   "nbconvert_exporter": "python",
   "pygments_lexer": "ipython3",
   "version": "3.9.6"
  }
 },
 "nbformat": 4,
 "nbformat_minor": 2
}
